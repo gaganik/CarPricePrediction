{
 "cells": [
  {
   "cell_type": "code",
   "execution_count": 2,
   "id": "0176ab16",
   "metadata": {},
   "outputs": [],
   "source": [
    "import pandas as pd \n",
    "import numpy as np\n",
    "import matplotlib.pyplot as plt\n",
    "import seaborn as sbn"
   ]
  },
  {
   "cell_type": "code",
   "execution_count": 3,
   "id": "6feded26",
   "metadata": {},
   "outputs": [],
   "source": [
    "dataFrame = pd.read_excel(\"merc.xlsx\")"
   ]
  },
  {
   "cell_type": "code",
   "execution_count": 4,
   "id": "e57801aa",
   "metadata": {},
   "outputs": [
    {
     "data": {
      "text/html": [
       "<div>\n",
       "<style scoped>\n",
       "    .dataframe tbody tr th:only-of-type {\n",
       "        vertical-align: middle;\n",
       "    }\n",
       "\n",
       "    .dataframe tbody tr th {\n",
       "        vertical-align: top;\n",
       "    }\n",
       "\n",
       "    .dataframe thead th {\n",
       "        text-align: right;\n",
       "    }\n",
       "</style>\n",
       "<table border=\"1\" class=\"dataframe\">\n",
       "  <thead>\n",
       "    <tr style=\"text-align: right;\">\n",
       "      <th></th>\n",
       "      <th>year</th>\n",
       "      <th>price</th>\n",
       "      <th>transmission</th>\n",
       "      <th>mileage</th>\n",
       "      <th>tax</th>\n",
       "      <th>mpg</th>\n",
       "      <th>engineSize</th>\n",
       "    </tr>\n",
       "  </thead>\n",
       "  <tbody>\n",
       "    <tr>\n",
       "      <th>0</th>\n",
       "      <td>2005</td>\n",
       "      <td>5200</td>\n",
       "      <td>Automatic</td>\n",
       "      <td>63000</td>\n",
       "      <td>325</td>\n",
       "      <td>32.1</td>\n",
       "      <td>1.8</td>\n",
       "    </tr>\n",
       "    <tr>\n",
       "      <th>1</th>\n",
       "      <td>2017</td>\n",
       "      <td>34948</td>\n",
       "      <td>Automatic</td>\n",
       "      <td>27000</td>\n",
       "      <td>20</td>\n",
       "      <td>61.4</td>\n",
       "      <td>2.1</td>\n",
       "    </tr>\n",
       "    <tr>\n",
       "      <th>2</th>\n",
       "      <td>2016</td>\n",
       "      <td>49948</td>\n",
       "      <td>Automatic</td>\n",
       "      <td>6200</td>\n",
       "      <td>555</td>\n",
       "      <td>28.0</td>\n",
       "      <td>5.5</td>\n",
       "    </tr>\n",
       "    <tr>\n",
       "      <th>3</th>\n",
       "      <td>2016</td>\n",
       "      <td>61948</td>\n",
       "      <td>Automatic</td>\n",
       "      <td>16000</td>\n",
       "      <td>325</td>\n",
       "      <td>30.4</td>\n",
       "      <td>4.0</td>\n",
       "    </tr>\n",
       "    <tr>\n",
       "      <th>4</th>\n",
       "      <td>2016</td>\n",
       "      <td>73948</td>\n",
       "      <td>Automatic</td>\n",
       "      <td>4000</td>\n",
       "      <td>325</td>\n",
       "      <td>30.1</td>\n",
       "      <td>4.0</td>\n",
       "    </tr>\n",
       "  </tbody>\n",
       "</table>\n",
       "</div>"
      ],
      "text/plain": [
       "   year  price transmission  mileage  tax   mpg  engineSize\n",
       "0  2005   5200    Automatic    63000  325  32.1         1.8\n",
       "1  2017  34948    Automatic    27000   20  61.4         2.1\n",
       "2  2016  49948    Automatic     6200  555  28.0         5.5\n",
       "3  2016  61948    Automatic    16000  325  30.4         4.0\n",
       "4  2016  73948    Automatic     4000  325  30.1         4.0"
      ]
     },
     "execution_count": 4,
     "metadata": {},
     "output_type": "execute_result"
    }
   ],
   "source": [
    "dataFrame.head()"
   ]
  },
  {
   "cell_type": "code",
   "execution_count": 5,
   "id": "e92bede6",
   "metadata": {},
   "outputs": [
    {
     "data": {
      "text/html": [
       "<div>\n",
       "<style scoped>\n",
       "    .dataframe tbody tr th:only-of-type {\n",
       "        vertical-align: middle;\n",
       "    }\n",
       "\n",
       "    .dataframe tbody tr th {\n",
       "        vertical-align: top;\n",
       "    }\n",
       "\n",
       "    .dataframe thead th {\n",
       "        text-align: right;\n",
       "    }\n",
       "</style>\n",
       "<table border=\"1\" class=\"dataframe\">\n",
       "  <thead>\n",
       "    <tr style=\"text-align: right;\">\n",
       "      <th></th>\n",
       "      <th>year</th>\n",
       "      <th>price</th>\n",
       "      <th>mileage</th>\n",
       "      <th>tax</th>\n",
       "      <th>mpg</th>\n",
       "      <th>engineSize</th>\n",
       "    </tr>\n",
       "  </thead>\n",
       "  <tbody>\n",
       "    <tr>\n",
       "      <th>count</th>\n",
       "      <td>13119.000000</td>\n",
       "      <td>13119.000000</td>\n",
       "      <td>13119.000000</td>\n",
       "      <td>13119.000000</td>\n",
       "      <td>13119.000000</td>\n",
       "      <td>13119.000000</td>\n",
       "    </tr>\n",
       "    <tr>\n",
       "      <th>mean</th>\n",
       "      <td>2017.296288</td>\n",
       "      <td>24698.596920</td>\n",
       "      <td>21949.559037</td>\n",
       "      <td>129.972178</td>\n",
       "      <td>55.155843</td>\n",
       "      <td>2.071530</td>\n",
       "    </tr>\n",
       "    <tr>\n",
       "      <th>std</th>\n",
       "      <td>2.224709</td>\n",
       "      <td>11842.675542</td>\n",
       "      <td>21176.512267</td>\n",
       "      <td>65.260286</td>\n",
       "      <td>15.220082</td>\n",
       "      <td>0.572426</td>\n",
       "    </tr>\n",
       "    <tr>\n",
       "      <th>min</th>\n",
       "      <td>1970.000000</td>\n",
       "      <td>650.000000</td>\n",
       "      <td>1.000000</td>\n",
       "      <td>0.000000</td>\n",
       "      <td>1.100000</td>\n",
       "      <td>0.000000</td>\n",
       "    </tr>\n",
       "    <tr>\n",
       "      <th>25%</th>\n",
       "      <td>2016.000000</td>\n",
       "      <td>17450.000000</td>\n",
       "      <td>6097.500000</td>\n",
       "      <td>125.000000</td>\n",
       "      <td>45.600000</td>\n",
       "      <td>1.800000</td>\n",
       "    </tr>\n",
       "    <tr>\n",
       "      <th>50%</th>\n",
       "      <td>2018.000000</td>\n",
       "      <td>22480.000000</td>\n",
       "      <td>15189.000000</td>\n",
       "      <td>145.000000</td>\n",
       "      <td>56.500000</td>\n",
       "      <td>2.000000</td>\n",
       "    </tr>\n",
       "    <tr>\n",
       "      <th>75%</th>\n",
       "      <td>2019.000000</td>\n",
       "      <td>28980.000000</td>\n",
       "      <td>31779.500000</td>\n",
       "      <td>145.000000</td>\n",
       "      <td>64.200000</td>\n",
       "      <td>2.100000</td>\n",
       "    </tr>\n",
       "    <tr>\n",
       "      <th>max</th>\n",
       "      <td>2020.000000</td>\n",
       "      <td>159999.000000</td>\n",
       "      <td>259000.000000</td>\n",
       "      <td>580.000000</td>\n",
       "      <td>217.300000</td>\n",
       "      <td>6.200000</td>\n",
       "    </tr>\n",
       "  </tbody>\n",
       "</table>\n",
       "</div>"
      ],
      "text/plain": [
       "               year          price        mileage           tax           mpg  \\\n",
       "count  13119.000000   13119.000000   13119.000000  13119.000000  13119.000000   \n",
       "mean    2017.296288   24698.596920   21949.559037    129.972178     55.155843   \n",
       "std        2.224709   11842.675542   21176.512267     65.260286     15.220082   \n",
       "min     1970.000000     650.000000       1.000000      0.000000      1.100000   \n",
       "25%     2016.000000   17450.000000    6097.500000    125.000000     45.600000   \n",
       "50%     2018.000000   22480.000000   15189.000000    145.000000     56.500000   \n",
       "75%     2019.000000   28980.000000   31779.500000    145.000000     64.200000   \n",
       "max     2020.000000  159999.000000  259000.000000    580.000000    217.300000   \n",
       "\n",
       "         engineSize  \n",
       "count  13119.000000  \n",
       "mean       2.071530  \n",
       "std        0.572426  \n",
       "min        0.000000  \n",
       "25%        1.800000  \n",
       "50%        2.000000  \n",
       "75%        2.100000  \n",
       "max        6.200000  "
      ]
     },
     "execution_count": 5,
     "metadata": {},
     "output_type": "execute_result"
    }
   ],
   "source": [
    "dataFrame.describe()"
   ]
  },
  {
   "cell_type": "code",
   "execution_count": 6,
   "id": "09a14650",
   "metadata": {},
   "outputs": [
    {
     "data": {
      "text/plain": [
       "year            0\n",
       "price           0\n",
       "transmission    0\n",
       "mileage         0\n",
       "tax             0\n",
       "mpg             0\n",
       "engineSize      0\n",
       "dtype: int64"
      ]
     },
     "execution_count": 6,
     "metadata": {},
     "output_type": "execute_result"
    }
   ],
   "source": [
    "dataFrame.isnull().sum()"
   ]
  },
  {
   "cell_type": "code",
   "execution_count": 7,
   "id": "14313ad2",
   "metadata": {},
   "outputs": [
    {
     "name": "stderr",
     "output_type": "stream",
     "text": [
      "C:\\ProgramData\\Anaconda3\\lib\\site-packages\\seaborn\\distributions.py:2557: FutureWarning: `distplot` is a deprecated function and will be removed in a future version. Please adapt your code to use either `displot` (a figure-level function with similar flexibility) or `histplot` (an axes-level function for histograms).\n",
      "  warnings.warn(msg, FutureWarning)\n"
     ]
    },
    {
     "data": {
      "text/plain": [
       "<AxesSubplot:xlabel='price', ylabel='Density'>"
      ]
     },
     "execution_count": 7,
     "metadata": {},
     "output_type": "execute_result"
    },
    {
     "data": {
      "image/png": "[encoded data removed]",
      "text/plain": [
       "<Figure size 504x360 with 1 Axes>"
      ]
     },
     "metadata": {
      "needs_background": "light"
     },
     "output_type": "display_data"
    }
   ],
   "source": [
    "plt.figure(figsize=(7,5))\n",
    "sbn.distplot(dataFrame[\"price\"])"
   ]
  },
  {
   "cell_type": "code",
   "execution_count": 8,
   "id": "8db1ced1",
   "metadata": {},
   "outputs": [
    {
     "name": "stderr",
     "output_type": "stream",
     "text": [
      "C:\\ProgramData\\Anaconda3\\lib\\site-packages\\seaborn\\_decorators.py:36: FutureWarning: Pass the following variable as a keyword arg: x. From version 0.12, the only valid positional argument will be `data`, and passing other arguments without an explicit keyword will result in an error or misinterpretation.\n",
      "  warnings.warn(\n"
     ]
    },
    {
     "data": {
      "text/plain": [
       "<AxesSubplot:xlabel='year', ylabel='count'>"
      ]
     },
     "execution_count": 8,
     "metadata": {},
     "output_type": "execute_result"
    },
    {
     "data": {
      "image/png": "[encoded data removed]",
      "text/plain": [
       "<Figure size 432x288 with 1 Axes>"
      ]
     },
     "metadata": {
      "needs_background": "light"
     },
     "output_type": "display_data"
    }
   ],
   "source": [
    "sbn.countplot(dataFrame[\"year\"])"
   ]
  },
  {
   "cell_type": "code",
   "execution_count": 9,
   "id": "c0649918",
   "metadata": {},
   "outputs": [
    {
     "data": {
      "text/html": [
       "<div>\n",
       "<style scoped>\n",
       "    .dataframe tbody tr th:only-of-type {\n",
       "        vertical-align: middle;\n",
       "    }\n",
       "\n",
       "    .dataframe tbody tr th {\n",
       "        vertical-align: top;\n",
       "    }\n",
       "\n",
       "    .dataframe thead th {\n",
       "        text-align: right;\n",
       "    }\n",
       "</style>\n",
       "<table border=\"1\" class=\"dataframe\">\n",
       "  <thead>\n",
       "    <tr style=\"text-align: right;\">\n",
       "      <th></th>\n",
       "      <th>year</th>\n",
       "      <th>price</th>\n",
       "      <th>mileage</th>\n",
       "      <th>tax</th>\n",
       "      <th>mpg</th>\n",
       "      <th>engineSize</th>\n",
       "    </tr>\n",
       "  </thead>\n",
       "  <tbody>\n",
       "    <tr>\n",
       "      <th>year</th>\n",
       "      <td>1.000000</td>\n",
       "      <td>0.520712</td>\n",
       "      <td>-0.738027</td>\n",
       "      <td>0.012480</td>\n",
       "      <td>-0.094626</td>\n",
       "      <td>-0.142147</td>\n",
       "    </tr>\n",
       "    <tr>\n",
       "      <th>price</th>\n",
       "      <td>0.520712</td>\n",
       "      <td>1.000000</td>\n",
       "      <td>-0.537214</td>\n",
       "      <td>0.268717</td>\n",
       "      <td>-0.438445</td>\n",
       "      <td>0.516126</td>\n",
       "    </tr>\n",
       "    <tr>\n",
       "      <th>mileage</th>\n",
       "      <td>-0.738027</td>\n",
       "      <td>-0.537214</td>\n",
       "      <td>1.000000</td>\n",
       "      <td>-0.160223</td>\n",
       "      <td>0.202850</td>\n",
       "      <td>0.063652</td>\n",
       "    </tr>\n",
       "    <tr>\n",
       "      <th>tax</th>\n",
       "      <td>0.012480</td>\n",
       "      <td>0.268717</td>\n",
       "      <td>-0.160223</td>\n",
       "      <td>1.000000</td>\n",
       "      <td>-0.513742</td>\n",
       "      <td>0.338341</td>\n",
       "    </tr>\n",
       "    <tr>\n",
       "      <th>mpg</th>\n",
       "      <td>-0.094626</td>\n",
       "      <td>-0.438445</td>\n",
       "      <td>0.202850</td>\n",
       "      <td>-0.513742</td>\n",
       "      <td>1.000000</td>\n",
       "      <td>-0.339862</td>\n",
       "    </tr>\n",
       "    <tr>\n",
       "      <th>engineSize</th>\n",
       "      <td>-0.142147</td>\n",
       "      <td>0.516126</td>\n",
       "      <td>0.063652</td>\n",
       "      <td>0.338341</td>\n",
       "      <td>-0.339862</td>\n",
       "      <td>1.000000</td>\n",
       "    </tr>\n",
       "  </tbody>\n",
       "</table>\n",
       "</div>"
      ],
      "text/plain": [
       "                year     price   mileage       tax       mpg  engineSize\n",
       "year        1.000000  0.520712 -0.738027  0.012480 -0.094626   -0.142147\n",
       "price       0.520712  1.000000 -0.537214  0.268717 -0.438445    0.516126\n",
       "mileage    -0.738027 -0.537214  1.000000 -0.160223  0.202850    0.063652\n",
       "tax         0.012480  0.268717 -0.160223  1.000000 -0.513742    0.338341\n",
       "mpg        -0.094626 -0.438445  0.202850 -0.513742  1.000000   -0.339862\n",
       "engineSize -0.142147  0.516126  0.063652  0.338341 -0.339862    1.000000"
      ]
     },
     "execution_count": 9,
     "metadata": {},
     "output_type": "execute_result"
    }
   ],
   "source": [
    "dataFrame.corr()"
   ]
  },
  {
   "cell_type": "code",
   "execution_count": 10,
   "id": "b5b2cbfc",
   "metadata": {},
   "outputs": [
    {
     "data": {
      "text/plain": [
       "mileage      -0.537214\n",
       "mpg          -0.438445\n",
       "tax           0.268717\n",
       "engineSize    0.516126\n",
       "year          0.520712\n",
       "price         1.000000\n",
       "Name: price, dtype: float64"
      ]
     },
     "execution_count": 10,
     "metadata": {},
     "output_type": "execute_result"
    }
   ],
   "source": [
    "dataFrame.corr()[\"price\"].sort_values()"
   ]
  },
  {
   "cell_type": "code",
   "execution_count": 11,
   "id": "a51824dd",
   "metadata": {},
   "outputs": [
    {
     "data": {
      "text/plain": [
       "<AxesSubplot:xlabel='mileage', ylabel='price'>"
      ]
     },
     "execution_count": 11,
     "metadata": {},
     "output_type": "execute_result"
    },
    {
     "data": {
      "image/png": "[encoded data removed]",
      "text/plain": [
       "<Figure size 432x288 with 1 Axes>"
      ]
     },
     "metadata": {
      "needs_background": "light"
     },
     "output_type": "display_data"
    }
   ],
   "source": [
    "sbn.scatterplot(x=\"mileage\",y=\"price\",data=dataFrame)"
   ]
  },
  {
   "cell_type": "code",
   "execution_count": 13,
   "id": "f0b79c4e",
   "metadata": {},
   "outputs": [
    {
     "data": {
      "text/html": [
       "<div>\n",
       "<style scoped>\n",
       "    .dataframe tbody tr th:only-of-type {\n",
       "        vertical-align: middle;\n",
       "    }\n",
       "\n",
       "    .dataframe tbody tr th {\n",
       "        vertical-align: top;\n",
       "    }\n",
       "\n",
       "    .dataframe thead th {\n",
       "        text-align: right;\n",
       "    }\n",
       "</style>\n",
       "<table border=\"1\" class=\"dataframe\">\n",
       "  <thead>\n",
       "    <tr style=\"text-align: right;\">\n",
       "      <th></th>\n",
       "      <th>year</th>\n",
       "      <th>price</th>\n",
       "      <th>transmission</th>\n",
       "      <th>mileage</th>\n",
       "      <th>tax</th>\n",
       "      <th>mpg</th>\n",
       "      <th>engineSize</th>\n",
       "    </tr>\n",
       "  </thead>\n",
       "  <tbody>\n",
       "    <tr>\n",
       "      <th>6199</th>\n",
       "      <td>2020</td>\n",
       "      <td>159999</td>\n",
       "      <td>Semi-Auto</td>\n",
       "      <td>1350</td>\n",
       "      <td>145</td>\n",
       "      <td>21.4</td>\n",
       "      <td>4.0</td>\n",
       "    </tr>\n",
       "    <tr>\n",
       "      <th>10044</th>\n",
       "      <td>2020</td>\n",
       "      <td>154998</td>\n",
       "      <td>Automatic</td>\n",
       "      <td>3000</td>\n",
       "      <td>150</td>\n",
       "      <td>21.4</td>\n",
       "      <td>4.0</td>\n",
       "    </tr>\n",
       "    <tr>\n",
       "      <th>5</th>\n",
       "      <td>2011</td>\n",
       "      <td>149948</td>\n",
       "      <td>Automatic</td>\n",
       "      <td>3000</td>\n",
       "      <td>570</td>\n",
       "      <td>21.4</td>\n",
       "      <td>6.2</td>\n",
       "    </tr>\n",
       "    <tr>\n",
       "      <th>8737</th>\n",
       "      <td>2019</td>\n",
       "      <td>140319</td>\n",
       "      <td>Semi-Auto</td>\n",
       "      <td>785</td>\n",
       "      <td>150</td>\n",
       "      <td>22.1</td>\n",
       "      <td>4.0</td>\n",
       "    </tr>\n",
       "    <tr>\n",
       "      <th>6386</th>\n",
       "      <td>2018</td>\n",
       "      <td>139995</td>\n",
       "      <td>Semi-Auto</td>\n",
       "      <td>13046</td>\n",
       "      <td>145</td>\n",
       "      <td>21.4</td>\n",
       "      <td>4.0</td>\n",
       "    </tr>\n",
       "    <tr>\n",
       "      <th>8</th>\n",
       "      <td>2019</td>\n",
       "      <td>139948</td>\n",
       "      <td>Automatic</td>\n",
       "      <td>12000</td>\n",
       "      <td>145</td>\n",
       "      <td>21.4</td>\n",
       "      <td>4.0</td>\n",
       "    </tr>\n",
       "    <tr>\n",
       "      <th>9133</th>\n",
       "      <td>2019</td>\n",
       "      <td>139559</td>\n",
       "      <td>Semi-Auto</td>\n",
       "      <td>1000</td>\n",
       "      <td>145</td>\n",
       "      <td>22.1</td>\n",
       "      <td>4.0</td>\n",
       "    </tr>\n",
       "    <tr>\n",
       "      <th>8821</th>\n",
       "      <td>2020</td>\n",
       "      <td>138439</td>\n",
       "      <td>Semi-Auto</td>\n",
       "      <td>1000</td>\n",
       "      <td>145</td>\n",
       "      <td>22.1</td>\n",
       "      <td>4.0</td>\n",
       "    </tr>\n",
       "    <tr>\n",
       "      <th>5902</th>\n",
       "      <td>2018</td>\n",
       "      <td>135771</td>\n",
       "      <td>Semi-Auto</td>\n",
       "      <td>19000</td>\n",
       "      <td>145</td>\n",
       "      <td>21.4</td>\n",
       "      <td>4.0</td>\n",
       "    </tr>\n",
       "    <tr>\n",
       "      <th>7864</th>\n",
       "      <td>2018</td>\n",
       "      <td>135124</td>\n",
       "      <td>Semi-Auto</td>\n",
       "      <td>18234</td>\n",
       "      <td>150</td>\n",
       "      <td>21.4</td>\n",
       "      <td>4.0</td>\n",
       "    </tr>\n",
       "    <tr>\n",
       "      <th>8673</th>\n",
       "      <td>2019</td>\n",
       "      <td>134219</td>\n",
       "      <td>Semi-Auto</td>\n",
       "      <td>1000</td>\n",
       "      <td>145</td>\n",
       "      <td>24.8</td>\n",
       "      <td>4.0</td>\n",
       "    </tr>\n",
       "    <tr>\n",
       "      <th>6210</th>\n",
       "      <td>2019</td>\n",
       "      <td>129990</td>\n",
       "      <td>Automatic</td>\n",
       "      <td>1000</td>\n",
       "      <td>145</td>\n",
       "      <td>24.8</td>\n",
       "      <td>4.0</td>\n",
       "    </tr>\n",
       "    <tr>\n",
       "      <th>4759</th>\n",
       "      <td>2019</td>\n",
       "      <td>126000</td>\n",
       "      <td>Automatic</td>\n",
       "      <td>250</td>\n",
       "      <td>145</td>\n",
       "      <td>24.6</td>\n",
       "      <td>4.0</td>\n",
       "    </tr>\n",
       "    <tr>\n",
       "      <th>2647</th>\n",
       "      <td>2019</td>\n",
       "      <td>125796</td>\n",
       "      <td>Automatic</td>\n",
       "      <td>637</td>\n",
       "      <td>145</td>\n",
       "      <td>24.8</td>\n",
       "      <td>4.0</td>\n",
       "    </tr>\n",
       "    <tr>\n",
       "      <th>6223</th>\n",
       "      <td>2019</td>\n",
       "      <td>124999</td>\n",
       "      <td>Automatic</td>\n",
       "      <td>1500</td>\n",
       "      <td>145</td>\n",
       "      <td>31.7</td>\n",
       "      <td>4.0</td>\n",
       "    </tr>\n",
       "    <tr>\n",
       "      <th>4094</th>\n",
       "      <td>2019</td>\n",
       "      <td>124366</td>\n",
       "      <td>Semi-Auto</td>\n",
       "      <td>880</td>\n",
       "      <td>145</td>\n",
       "      <td>24.8</td>\n",
       "      <td>4.0</td>\n",
       "    </tr>\n",
       "    <tr>\n",
       "      <th>2629</th>\n",
       "      <td>2019</td>\n",
       "      <td>123846</td>\n",
       "      <td>Semi-Auto</td>\n",
       "      <td>2951</td>\n",
       "      <td>145</td>\n",
       "      <td>22.1</td>\n",
       "      <td>4.0</td>\n",
       "    </tr>\n",
       "    <tr>\n",
       "      <th>7134</th>\n",
       "      <td>2019</td>\n",
       "      <td>115359</td>\n",
       "      <td>Semi-Auto</td>\n",
       "      <td>1000</td>\n",
       "      <td>145</td>\n",
       "      <td>30.1</td>\n",
       "      <td>4.0</td>\n",
       "    </tr>\n",
       "    <tr>\n",
       "      <th>9159</th>\n",
       "      <td>2019</td>\n",
       "      <td>114199</td>\n",
       "      <td>Semi-Auto</td>\n",
       "      <td>891</td>\n",
       "      <td>145</td>\n",
       "      <td>22.6</td>\n",
       "      <td>4.0</td>\n",
       "    </tr>\n",
       "    <tr>\n",
       "      <th>1980</th>\n",
       "      <td>2019</td>\n",
       "      <td>109995</td>\n",
       "      <td>Semi-Auto</td>\n",
       "      <td>4688</td>\n",
       "      <td>150</td>\n",
       "      <td>31.7</td>\n",
       "      <td>4.0</td>\n",
       "    </tr>\n",
       "  </tbody>\n",
       "</table>\n",
       "</div>"
      ],
      "text/plain": [
       "       year   price transmission  mileage  tax   mpg  engineSize\n",
       "6199   2020  159999    Semi-Auto     1350  145  21.4         4.0\n",
       "10044  2020  154998    Automatic     3000  150  21.4         4.0\n",
       "5      2011  149948    Automatic     3000  570  21.4         6.2\n",
       "8737   2019  140319    Semi-Auto      785  150  22.1         4.0\n",
       "6386   2018  139995    Semi-Auto    13046  145  21.4         4.0\n",
       "8      2019  139948    Automatic    12000  145  21.4         4.0\n",
       "9133   2019  139559    Semi-Auto     1000  145  22.1         4.0\n",
       "8821   2020  138439    Semi-Auto     1000  145  22.1         4.0\n",
       "5902   2018  135771    Semi-Auto    19000  145  21.4         4.0\n",
       "7864   2018  135124    Semi-Auto    18234  150  21.4         4.0\n",
       "8673   2019  134219    Semi-Auto     1000  145  24.8         4.0\n",
       "6210   2019  129990    Automatic     1000  145  24.8         4.0\n",
       "4759   2019  126000    Automatic      250  145  24.6         4.0\n",
       "2647   2019  125796    Automatic      637  145  24.8         4.0\n",
       "6223   2019  124999    Automatic     1500  145  31.7         4.0\n",
       "4094   2019  124366    Semi-Auto      880  145  24.8         4.0\n",
       "2629   2019  123846    Semi-Auto     2951  145  22.1         4.0\n",
       "7134   2019  115359    Semi-Auto     1000  145  30.1         4.0\n",
       "9159   2019  114199    Semi-Auto      891  145  22.6         4.0\n",
       "1980   2019  109995    Semi-Auto     4688  150  31.7         4.0"
      ]
     },
     "execution_count": 13,
     "metadata": {},
     "output_type": "execute_result"
    }
   ],
   "source": [
    "dataFrame.sort_values(\"price\", ascending = False).head(20)"
   ]
  },
  {
   "cell_type": "code",
   "execution_count": 14,
   "id": "e969bd25",
   "metadata": {},
   "outputs": [
    {
     "data": {
      "text/plain": [
       "13119"
      ]
     },
     "execution_count": 14,
     "metadata": {},
     "output_type": "execute_result"
    }
   ],
   "source": [
    "len(dataFrame)"
   ]
  },
  {
   "cell_type": "code",
   "execution_count": 16,
   "id": "23f61019",
   "metadata": {},
   "outputs": [],
   "source": [
    "temizlenmisDf = dataFrame.sort_values(\"price\", ascending = False).iloc[131:]"
   ]
  },
  {
   "cell_type": "code",
   "execution_count": 17,
   "id": "5e62b968",
   "metadata": {},
   "outputs": [
    {
     "data": {
      "text/html": [
       "<div>\n",
       "<style scoped>\n",
       "    .dataframe tbody tr th:only-of-type {\n",
       "        vertical-align: middle;\n",
       "    }\n",
       "\n",
       "    .dataframe tbody tr th {\n",
       "        vertical-align: top;\n",
       "    }\n",
       "\n",
       "    .dataframe thead th {\n",
       "        text-align: right;\n",
       "    }\n",
       "</style>\n",
       "<table border=\"1\" class=\"dataframe\">\n",
       "  <thead>\n",
       "    <tr style=\"text-align: right;\">\n",
       "      <th></th>\n",
       "      <th>year</th>\n",
       "      <th>price</th>\n",
       "      <th>mileage</th>\n",
       "      <th>tax</th>\n",
       "      <th>mpg</th>\n",
       "      <th>engineSize</th>\n",
       "    </tr>\n",
       "  </thead>\n",
       "  <tbody>\n",
       "    <tr>\n",
       "      <th>count</th>\n",
       "      <td>12988.000000</td>\n",
       "      <td>12988.000000</td>\n",
       "      <td>12988.000000</td>\n",
       "      <td>12988.000000</td>\n",
       "      <td>12988.000000</td>\n",
       "      <td>12988.000000</td>\n",
       "    </tr>\n",
       "    <tr>\n",
       "      <th>mean</th>\n",
       "      <td>2017.281876</td>\n",
       "      <td>24074.926933</td>\n",
       "      <td>22132.741146</td>\n",
       "      <td>129.689714</td>\n",
       "      <td>55.437142</td>\n",
       "      <td>2.050901</td>\n",
       "    </tr>\n",
       "    <tr>\n",
       "      <th>std</th>\n",
       "      <td>2.228515</td>\n",
       "      <td>9866.224575</td>\n",
       "      <td>21196.776401</td>\n",
       "      <td>65.183076</td>\n",
       "      <td>15.025999</td>\n",
       "      <td>0.532596</td>\n",
       "    </tr>\n",
       "    <tr>\n",
       "      <th>min</th>\n",
       "      <td>1970.000000</td>\n",
       "      <td>650.000000</td>\n",
       "      <td>1.000000</td>\n",
       "      <td>0.000000</td>\n",
       "      <td>1.100000</td>\n",
       "      <td>0.000000</td>\n",
       "    </tr>\n",
       "    <tr>\n",
       "      <th>25%</th>\n",
       "      <td>2016.000000</td>\n",
       "      <td>17357.500000</td>\n",
       "      <td>6322.000000</td>\n",
       "      <td>125.000000</td>\n",
       "      <td>45.600000</td>\n",
       "      <td>1.675000</td>\n",
       "    </tr>\n",
       "    <tr>\n",
       "      <th>50%</th>\n",
       "      <td>2018.000000</td>\n",
       "      <td>22299.000000</td>\n",
       "      <td>15369.500000</td>\n",
       "      <td>145.000000</td>\n",
       "      <td>56.500000</td>\n",
       "      <td>2.000000</td>\n",
       "    </tr>\n",
       "    <tr>\n",
       "      <th>75%</th>\n",
       "      <td>2019.000000</td>\n",
       "      <td>28706.000000</td>\n",
       "      <td>31982.250000</td>\n",
       "      <td>145.000000</td>\n",
       "      <td>64.200000</td>\n",
       "      <td>2.100000</td>\n",
       "    </tr>\n",
       "    <tr>\n",
       "      <th>max</th>\n",
       "      <td>2020.000000</td>\n",
       "      <td>65990.000000</td>\n",
       "      <td>259000.000000</td>\n",
       "      <td>580.000000</td>\n",
       "      <td>217.300000</td>\n",
       "      <td>6.200000</td>\n",
       "    </tr>\n",
       "  </tbody>\n",
       "</table>\n",
       "</div>"
      ],
      "text/plain": [
       "               year         price        mileage           tax           mpg  \\\n",
       "count  12988.000000  12988.000000   12988.000000  12988.000000  12988.000000   \n",
       "mean    2017.281876  24074.926933   22132.741146    129.689714     55.437142   \n",
       "std        2.228515   9866.224575   21196.776401     65.183076     15.025999   \n",
       "min     1970.000000    650.000000       1.000000      0.000000      1.100000   \n",
       "25%     2016.000000  17357.500000    6322.000000    125.000000     45.600000   \n",
       "50%     2018.000000  22299.000000   15369.500000    145.000000     56.500000   \n",
       "75%     2019.000000  28706.000000   31982.250000    145.000000     64.200000   \n",
       "max     2020.000000  65990.000000  259000.000000    580.000000    217.300000   \n",
       "\n",
       "         engineSize  \n",
       "count  12988.000000  \n",
       "mean       2.050901  \n",
       "std        0.532596  \n",
       "min        0.000000  \n",
       "25%        1.675000  \n",
       "50%        2.000000  \n",
       "75%        2.100000  \n",
       "max        6.200000  "
      ]
     },
     "execution_count": 17,
     "metadata": {},
     "output_type": "execute_result"
    }
   ],
   "source": [
    "temizlenmisDf.describe()"
   ]
  },
  {
   "cell_type": "code",
   "execution_count": 18,
   "id": "b30a5815",
   "metadata": {},
   "outputs": [
    {
     "name": "stderr",
     "output_type": "stream",
     "text": [
      "C:\\ProgramData\\Anaconda3\\lib\\site-packages\\seaborn\\distributions.py:2557: FutureWarning: `distplot` is a deprecated function and will be removed in a future version. Please adapt your code to use either `displot` (a figure-level function with similar flexibility) or `histplot` (an axes-level function for histograms).\n",
      "  warnings.warn(msg, FutureWarning)\n"
     ]
    },
    {
     "data": {
      "text/plain": [
       "<AxesSubplot:xlabel='price', ylabel='Density'>"
      ]
     },
     "execution_count": 18,
     "metadata": {},
     "output_type": "execute_result"
    },
    {
     "data": {
      "image/png": "[encoded data removed]",
      "text/plain": [
       "<Figure size 432x288 with 1 Axes>"
      ]
     },
     "metadata": {
      "needs_background": "light"
     },
     "output_type": "display_data"
    }
   ],
   "source": [
    "sbn.distplot(temizlenmisDf[\"price\"])"
   ]
  },
  {
   "cell_type": "code",
   "execution_count": 19,
   "id": "a28032c0",
   "metadata": {},
   "outputs": [
    {
     "data": {
      "text/plain": [
       "year\n",
       "1970    24999.000000\n",
       "1997     9995.000000\n",
       "1998     8605.000000\n",
       "1999     5995.000000\n",
       "2000     5743.333333\n",
       "2001     4957.900000\n",
       "2002     5820.444444\n",
       "2003     4878.000000\n",
       "2004     4727.615385\n",
       "2005     4426.111111\n",
       "2006     4036.875000\n",
       "2007     5136.045455\n",
       "2008     6967.437500\n",
       "2009     6166.764706\n",
       "2010     8308.473684\n",
       "2011     8913.459459\n",
       "2012    10845.140351\n",
       "2013    11939.842466\n",
       "2014    14042.936864\n",
       "2015    16647.822222\n",
       "2016    19223.558943\n",
       "2017    21356.280421\n",
       "2018    24800.844506\n",
       "2019    30289.524832\n",
       "2020    34234.794872\n",
       "Name: price, dtype: float64"
      ]
     },
     "execution_count": 19,
     "metadata": {},
     "output_type": "execute_result"
    }
   ],
   "source": [
    "temizlenmisDf.groupby(\"year\").mean()[\"price\"]"
   ]
  },
  {
   "cell_type": "code",
   "execution_count": 20,
   "id": "36aee83f",
   "metadata": {},
   "outputs": [
    {
     "data": {
      "text/plain": [
       "year\n",
       "1997     9995.000000\n",
       "1998     8605.000000\n",
       "1999     5995.000000\n",
       "2000     5743.333333\n",
       "2001     4957.900000\n",
       "2002     5820.444444\n",
       "2003     4878.000000\n",
       "2004     4727.615385\n",
       "2005     4426.111111\n",
       "2006     4036.875000\n",
       "2007     5136.045455\n",
       "2008     6967.437500\n",
       "2009     6166.764706\n",
       "2010     8308.473684\n",
       "2011     8913.459459\n",
       "2012    10845.140351\n",
       "2013    11939.842466\n",
       "2014    14042.936864\n",
       "2015    16647.822222\n",
       "2016    19223.558943\n",
       "2017    21356.280421\n",
       "2018    24800.844506\n",
       "2019    30289.524832\n",
       "2020    34234.794872\n",
       "Name: price, dtype: float64"
      ]
     },
     "execution_count": 20,
     "metadata": {},
     "output_type": "execute_result"
    }
   ],
   "source": [
    "temizlenmisDf[temizlenmisDf.year != 1970].groupby(\"year\").mean()[\"price\"]"
   ]
  },
  {
   "cell_type": "code",
   "execution_count": 21,
   "id": "2ea9ef29",
   "metadata": {},
   "outputs": [],
   "source": [
    "dataFrame = temizlenmisDf[temizlenmisDf.year != 1970]"
   ]
  },
  {
   "cell_type": "code",
   "execution_count": 22,
   "id": "1b317b18",
   "metadata": {},
   "outputs": [
    {
     "data": {
      "text/html": [
       "<div>\n",
       "<style scoped>\n",
       "    .dataframe tbody tr th:only-of-type {\n",
       "        vertical-align: middle;\n",
       "    }\n",
       "\n",
       "    .dataframe tbody tr th {\n",
       "        vertical-align: top;\n",
       "    }\n",
       "\n",
       "    .dataframe thead th {\n",
       "        text-align: right;\n",
       "    }\n",
       "</style>\n",
       "<table border=\"1\" class=\"dataframe\">\n",
       "  <thead>\n",
       "    <tr style=\"text-align: right;\">\n",
       "      <th></th>\n",
       "      <th>year</th>\n",
       "      <th>price</th>\n",
       "      <th>mileage</th>\n",
       "      <th>tax</th>\n",
       "      <th>mpg</th>\n",
       "      <th>engineSize</th>\n",
       "    </tr>\n",
       "  </thead>\n",
       "  <tbody>\n",
       "    <tr>\n",
       "      <th>count</th>\n",
       "      <td>12987.000000</td>\n",
       "      <td>12987.000000</td>\n",
       "      <td>12987.000000</td>\n",
       "      <td>12987.000000</td>\n",
       "      <td>12987.000000</td>\n",
       "      <td>12987.000000</td>\n",
       "    </tr>\n",
       "    <tr>\n",
       "      <th>mean</th>\n",
       "      <td>2017.285516</td>\n",
       "      <td>24074.855779</td>\n",
       "      <td>22133.367367</td>\n",
       "      <td>129.676215</td>\n",
       "      <td>55.438392</td>\n",
       "      <td>2.051059</td>\n",
       "    </tr>\n",
       "    <tr>\n",
       "      <th>std</th>\n",
       "      <td>2.189633</td>\n",
       "      <td>9866.601115</td>\n",
       "      <td>21197.472376</td>\n",
       "      <td>65.167429</td>\n",
       "      <td>15.025902</td>\n",
       "      <td>0.532313</td>\n",
       "    </tr>\n",
       "    <tr>\n",
       "      <th>min</th>\n",
       "      <td>1997.000000</td>\n",
       "      <td>650.000000</td>\n",
       "      <td>1.000000</td>\n",
       "      <td>0.000000</td>\n",
       "      <td>1.100000</td>\n",
       "      <td>0.000000</td>\n",
       "    </tr>\n",
       "    <tr>\n",
       "      <th>25%</th>\n",
       "      <td>2016.000000</td>\n",
       "      <td>17355.000000</td>\n",
       "      <td>6320.000000</td>\n",
       "      <td>125.000000</td>\n",
       "      <td>45.600000</td>\n",
       "      <td>1.700000</td>\n",
       "    </tr>\n",
       "    <tr>\n",
       "      <th>50%</th>\n",
       "      <td>2018.000000</td>\n",
       "      <td>22299.000000</td>\n",
       "      <td>15371.000000</td>\n",
       "      <td>145.000000</td>\n",
       "      <td>56.500000</td>\n",
       "      <td>2.000000</td>\n",
       "    </tr>\n",
       "    <tr>\n",
       "      <th>75%</th>\n",
       "      <td>2019.000000</td>\n",
       "      <td>28706.000000</td>\n",
       "      <td>31986.500000</td>\n",
       "      <td>145.000000</td>\n",
       "      <td>64.200000</td>\n",
       "      <td>2.100000</td>\n",
       "    </tr>\n",
       "    <tr>\n",
       "      <th>max</th>\n",
       "      <td>2020.000000</td>\n",
       "      <td>65990.000000</td>\n",
       "      <td>259000.000000</td>\n",
       "      <td>580.000000</td>\n",
       "      <td>217.300000</td>\n",
       "      <td>6.200000</td>\n",
       "    </tr>\n",
       "  </tbody>\n",
       "</table>\n",
       "</div>"
      ],
      "text/plain": [
       "               year         price        mileage           tax           mpg  \\\n",
       "count  12987.000000  12987.000000   12987.000000  12987.000000  12987.000000   \n",
       "mean    2017.285516  24074.855779   22133.367367    129.676215     55.438392   \n",
       "std        2.189633   9866.601115   21197.472376     65.167429     15.025902   \n",
       "min     1997.000000    650.000000       1.000000      0.000000      1.100000   \n",
       "25%     2016.000000  17355.000000    6320.000000    125.000000     45.600000   \n",
       "50%     2018.000000  22299.000000   15371.000000    145.000000     56.500000   \n",
       "75%     2019.000000  28706.000000   31986.500000    145.000000     64.200000   \n",
       "max     2020.000000  65990.000000  259000.000000    580.000000    217.300000   \n",
       "\n",
       "         engineSize  \n",
       "count  12987.000000  \n",
       "mean       2.051059  \n",
       "std        0.532313  \n",
       "min        0.000000  \n",
       "25%        1.700000  \n",
       "50%        2.000000  \n",
       "75%        2.100000  \n",
       "max        6.200000  "
      ]
     },
     "execution_count": 22,
     "metadata": {},
     "output_type": "execute_result"
    }
   ],
   "source": [
    "dataFrame.describe()"
   ]
  },
  {
   "cell_type": "code",
   "execution_count": 23,
   "id": "2afc5383",
   "metadata": {},
   "outputs": [
    {
     "data": {
      "text/html": [
       "<div>\n",
       "<style scoped>\n",
       "    .dataframe tbody tr th:only-of-type {\n",
       "        vertical-align: middle;\n",
       "    }\n",
       "\n",
       "    .dataframe tbody tr th {\n",
       "        vertical-align: top;\n",
       "    }\n",
       "\n",
       "    .dataframe thead th {\n",
       "        text-align: right;\n",
       "    }\n",
       "</style>\n",
       "<table border=\"1\" class=\"dataframe\">\n",
       "  <thead>\n",
       "    <tr style=\"text-align: right;\">\n",
       "      <th></th>\n",
       "      <th>year</th>\n",
       "      <th>price</th>\n",
       "      <th>transmission</th>\n",
       "      <th>mileage</th>\n",
       "      <th>tax</th>\n",
       "      <th>mpg</th>\n",
       "      <th>engineSize</th>\n",
       "    </tr>\n",
       "  </thead>\n",
       "  <tbody>\n",
       "    <tr>\n",
       "      <th>6177</th>\n",
       "      <td>2019</td>\n",
       "      <td>65990</td>\n",
       "      <td>Semi-Auto</td>\n",
       "      <td>5076</td>\n",
       "      <td>150</td>\n",
       "      <td>30.4</td>\n",
       "      <td>3.0</td>\n",
       "    </tr>\n",
       "    <tr>\n",
       "      <th>5779</th>\n",
       "      <td>2020</td>\n",
       "      <td>65990</td>\n",
       "      <td>Semi-Auto</td>\n",
       "      <td>999</td>\n",
       "      <td>145</td>\n",
       "      <td>28.0</td>\n",
       "      <td>4.0</td>\n",
       "    </tr>\n",
       "    <tr>\n",
       "      <th>3191</th>\n",
       "      <td>2020</td>\n",
       "      <td>65980</td>\n",
       "      <td>Semi-Auto</td>\n",
       "      <td>3999</td>\n",
       "      <td>145</td>\n",
       "      <td>28.0</td>\n",
       "      <td>4.0</td>\n",
       "    </tr>\n",
       "    <tr>\n",
       "      <th>4727</th>\n",
       "      <td>2019</td>\n",
       "      <td>65000</td>\n",
       "      <td>Semi-Auto</td>\n",
       "      <td>3398</td>\n",
       "      <td>145</td>\n",
       "      <td>27.2</td>\n",
       "      <td>4.0</td>\n",
       "    </tr>\n",
       "    <tr>\n",
       "      <th>8814</th>\n",
       "      <td>2019</td>\n",
       "      <td>64999</td>\n",
       "      <td>Semi-Auto</td>\n",
       "      <td>119</td>\n",
       "      <td>145</td>\n",
       "      <td>40.9</td>\n",
       "      <td>3.0</td>\n",
       "    </tr>\n",
       "  </tbody>\n",
       "</table>\n",
       "</div>"
      ],
      "text/plain": [
       "      year  price transmission  mileage  tax   mpg  engineSize\n",
       "6177  2019  65990    Semi-Auto     5076  150  30.4         3.0\n",
       "5779  2020  65990    Semi-Auto      999  145  28.0         4.0\n",
       "3191  2020  65980    Semi-Auto     3999  145  28.0         4.0\n",
       "4727  2019  65000    Semi-Auto     3398  145  27.2         4.0\n",
       "8814  2019  64999    Semi-Auto      119  145  40.9         3.0"
      ]
     },
     "execution_count": 23,
     "metadata": {},
     "output_type": "execute_result"
    }
   ],
   "source": [
    "dataFrame.head()"
   ]
  },
  {
   "cell_type": "code",
   "execution_count": 24,
   "id": "0f23e1e6",
   "metadata": {},
   "outputs": [],
   "source": [
    "dataFrame = dataFrame.drop(\"transmission\", axis=1)"
   ]
  },
  {
   "cell_type": "code",
   "execution_count": 25,
   "id": "b7828674",
   "metadata": {},
   "outputs": [
    {
     "data": {
      "text/html": [
       "<div>\n",
       "<style scoped>\n",
       "    .dataframe tbody tr th:only-of-type {\n",
       "        vertical-align: middle;\n",
       "    }\n",
       "\n",
       "    .dataframe tbody tr th {\n",
       "        vertical-align: top;\n",
       "    }\n",
       "\n",
       "    .dataframe thead th {\n",
       "        text-align: right;\n",
       "    }\n",
       "</style>\n",
       "<table border=\"1\" class=\"dataframe\">\n",
       "  <thead>\n",
       "    <tr style=\"text-align: right;\">\n",
       "      <th></th>\n",
       "      <th>year</th>\n",
       "      <th>price</th>\n",
       "      <th>mileage</th>\n",
       "      <th>tax</th>\n",
       "      <th>mpg</th>\n",
       "      <th>engineSize</th>\n",
       "    </tr>\n",
       "  </thead>\n",
       "  <tbody>\n",
       "    <tr>\n",
       "      <th>6177</th>\n",
       "      <td>2019</td>\n",
       "      <td>65990</td>\n",
       "      <td>5076</td>\n",
       "      <td>150</td>\n",
       "      <td>30.4</td>\n",
       "      <td>3.0</td>\n",
       "    </tr>\n",
       "    <tr>\n",
       "      <th>5779</th>\n",
       "      <td>2020</td>\n",
       "      <td>65990</td>\n",
       "      <td>999</td>\n",
       "      <td>145</td>\n",
       "      <td>28.0</td>\n",
       "      <td>4.0</td>\n",
       "    </tr>\n",
       "    <tr>\n",
       "      <th>3191</th>\n",
       "      <td>2020</td>\n",
       "      <td>65980</td>\n",
       "      <td>3999</td>\n",
       "      <td>145</td>\n",
       "      <td>28.0</td>\n",
       "      <td>4.0</td>\n",
       "    </tr>\n",
       "    <tr>\n",
       "      <th>4727</th>\n",
       "      <td>2019</td>\n",
       "      <td>65000</td>\n",
       "      <td>3398</td>\n",
       "      <td>145</td>\n",
       "      <td>27.2</td>\n",
       "      <td>4.0</td>\n",
       "    </tr>\n",
       "    <tr>\n",
       "      <th>8814</th>\n",
       "      <td>2019</td>\n",
       "      <td>64999</td>\n",
       "      <td>119</td>\n",
       "      <td>145</td>\n",
       "      <td>40.9</td>\n",
       "      <td>3.0</td>\n",
       "    </tr>\n",
       "  </tbody>\n",
       "</table>\n",
       "</div>"
      ],
      "text/plain": [
       "      year  price  mileage  tax   mpg  engineSize\n",
       "6177  2019  65990     5076  150  30.4         3.0\n",
       "5779  2020  65990      999  145  28.0         4.0\n",
       "3191  2020  65980     3999  145  28.0         4.0\n",
       "4727  2019  65000     3398  145  27.2         4.0\n",
       "8814  2019  64999      119  145  40.9         3.0"
      ]
     },
     "execution_count": 25,
     "metadata": {},
     "output_type": "execute_result"
    }
   ],
   "source": [
    "dataFrame.head()"
   ]
  },
  {
   "cell_type": "code",
   "execution_count": 26,
   "id": "620595b0",
   "metadata": {},
   "outputs": [],
   "source": [
    "# temiz data oluşturduktan sonra yapılacaklar:\n",
    "# 1-Numpy dizileri oluştur\n",
    "# 2-sklearn kullanarak test ve train splitlerini yap\n",
    "# 3-scaling işlemleri  yap\n",
    "# 4-modeli oluştur ve eğit"
   ]
  },
  {
   "cell_type": "code",
   "execution_count": 45,
   "id": "ab8420ee",
   "metadata": {},
   "outputs": [],
   "source": [
    "y = dataFrame[\"price\"].values\n",
    "x = dataFrame.drop(\"price\",axis=1).values"
   ]
  },
  {
   "cell_type": "code",
   "execution_count": 46,
   "id": "0c3e8e92",
   "metadata": {},
   "outputs": [
    {
     "data": {
      "text/plain": [
       "array([65990, 65990, 65980, ...,  1490,  1350,   650], dtype=int64)"
      ]
     },
     "execution_count": 46,
     "metadata": {},
     "output_type": "execute_result"
    }
   ],
   "source": [
    "y"
   ]
  },
  {
   "cell_type": "code",
   "execution_count": 47,
   "id": "941ba042",
   "metadata": {},
   "outputs": [
    {
     "data": {
      "text/plain": [
       "array([[2.01900e+03, 5.07600e+03, 1.50000e+02, 3.04000e+01, 3.00000e+00],\n",
       "       [2.02000e+03, 9.99000e+02, 1.45000e+02, 2.80000e+01, 4.00000e+00],\n",
       "       [2.02000e+03, 3.99900e+03, 1.45000e+02, 2.80000e+01, 4.00000e+00],\n",
       "       ...,\n",
       "       [2.00000e+03, 8.70000e+04, 2.65000e+02, 2.72000e+01, 3.20000e+00],\n",
       "       [2.01000e+03, 1.16126e+05, 1.45000e+02, 5.43000e+01, 2.00000e+00],\n",
       "       [2.00300e+03, 1.09090e+05, 2.35000e+02, 4.00000e+01, 1.40000e+00]])"
      ]
     },
     "execution_count": 47,
     "metadata": {},
     "output_type": "execute_result"
    }
   ],
   "source": [
    "x"
   ]
  },
  {
   "cell_type": "code",
   "execution_count": 48,
   "id": "fcbddd16",
   "metadata": {},
   "outputs": [],
   "source": [
    "from sklearn.model_selection import train_test_split"
   ]
  },
  {
   "cell_type": "code",
   "execution_count": 49,
   "id": "a5c3476a",
   "metadata": {},
   "outputs": [],
   "source": [
    "x_train, x_test, y_train, y_test = train_test_split(x,y,test_size=.3,random_state=1)"
   ]
  },
  {
   "cell_type": "code",
   "execution_count": 50,
   "id": "0ead37b8",
   "metadata": {},
   "outputs": [
    {
     "data": {
      "text/plain": [
       "9090"
      ]
     },
     "execution_count": 50,
     "metadata": {},
     "output_type": "execute_result"
    }
   ],
   "source": [
    "len(x_train)"
   ]
  },
  {
   "cell_type": "code",
   "execution_count": 51,
   "id": "f3c968cd",
   "metadata": {},
   "outputs": [
    {
     "data": {
      "text/plain": [
       "3897"
      ]
     },
     "execution_count": 51,
     "metadata": {},
     "output_type": "execute_result"
    }
   ],
   "source": [
    "len(x_test)"
   ]
  },
  {
   "cell_type": "code",
   "execution_count": 52,
   "id": "4b5def26",
   "metadata": {},
   "outputs": [],
   "source": [
    "from sklearn.preprocessing import MinMaxScaler"
   ]
  },
  {
   "cell_type": "code",
   "execution_count": 56,
   "id": "aa5f1fb4",
   "metadata": {},
   "outputs": [],
   "source": [
    "scaler = MinMaxScaler()"
   ]
  },
  {
   "cell_type": "code",
   "execution_count": 57,
   "id": "eb56ca4e",
   "metadata": {},
   "outputs": [],
   "source": [
    "x_train = scaler.fit_transform(x_train)"
   ]
  },
  {
   "cell_type": "code",
   "execution_count": 58,
   "id": "544fe581",
   "metadata": {},
   "outputs": [],
   "source": [
    "x_test = scaler.transform(x_test)"
   ]
  },
  {
   "cell_type": "code",
   "execution_count": 59,
   "id": "204cebc3",
   "metadata": {},
   "outputs": [],
   "source": [
    "from tensorflow.keras.models import Sequential\n",
    "from tensorflow.keras.layers import Dense "
   ]
  },
  {
   "cell_type": "code",
   "execution_count": 60,
   "id": "26b9ad3c",
   "metadata": {},
   "outputs": [
    {
     "data": {
      "text/plain": [
       "(9090, 5)"
      ]
     },
     "execution_count": 60,
     "metadata": {},
     "output_type": "execute_result"
    }
   ],
   "source": [
    "x_train.shape"
   ]
  },
  {
   "cell_type": "code",
   "execution_count": 62,
   "id": "dd960ba5",
   "metadata": {},
   "outputs": [],
   "source": [
    "model = Sequential()\n",
    "\n",
    "model.add(Dense(12,activation=\"relu\"))\n",
    "model.add(Dense(12,activation=\"relu\"))\n",
    "model.add(Dense(12,activation=\"relu\"))\n",
    "model.add(Dense(12,activation=\"relu\"))\n",
    "\n",
    "model.add(Dense(1))\n",
    "\n",
    "model.compile(optimizer=\"adam\", loss=\"mse\")"
   ]
  },
  {
   "cell_type": "code",
   "execution_count": null,
   "id": "b78f7a3e",
   "metadata": {},
   "outputs": [],
   "source": []
  },
  {
   "cell_type": "code",
   "execution_count": 68,
   "id": "d73b9d7c",
   "metadata": {},
   "outputs": [
    {
     "name": "stdout",
     "output_type": "stream",
     "text": [
      "Epoch 1/300\n",
      "37/37 [==============================] - 0s 7ms/step - loss: 671180352.0000 - val_loss: 690258304.0000\n",
      "Epoch 2/300\n",
      "37/37 [==============================] - 0s 2ms/step - loss: 671122624.0000 - val_loss: 690166784.0000\n",
      "Epoch 3/300\n",
      "37/37 [==============================] - 0s 2ms/step - loss: 670964032.0000 - val_loss: 689894848.0000\n",
      "Epoch 4/300\n",
      "37/37 [==============================] - 0s 2ms/step - loss: 670499392.0000 - val_loss: 689124928.0000\n",
      "Epoch 5/300\n",
      "37/37 [==============================] - 0s 2ms/step - loss: 669236672.0000 - val_loss: 687096704.0000\n",
      "Epoch 6/300\n",
      "37/37 [==============================] - 0s 2ms/step - loss: 666129216.0000 - val_loss: 682363200.0000\n",
      "Epoch 7/300\n",
      "37/37 [==============================] - 0s 2ms/step - loss: 659176512.0000 - val_loss: 672216512.0000\n",
      "Epoch 8/300\n",
      "37/37 [==============================] - 0s 2ms/step - loss: 645172352.0000 - val_loss: 652823040.0000\n",
      "Epoch 9/300\n",
      "37/37 [==============================] - 0s 2ms/step - loss: 619957056.0000 - val_loss: 619508096.0000\n",
      "Epoch 10/300\n",
      "37/37 [==============================] - 0s 2ms/step - loss: 578204928.0000 - val_loss: 566311360.0000\n",
      "Epoch 11/300\n",
      "37/37 [==============================] - 0s 2ms/step - loss: 514801856.0000 - val_loss: 489621056.0000\n",
      "Epoch 12/300\n",
      "37/37 [==============================] - 0s 2ms/step - loss: 428848640.0000 - val_loss: 391703552.0000\n",
      "Epoch 13/300\n",
      "37/37 [==============================] - 0s 2ms/step - loss: 327071168.0000 - val_loss: 284650304.0000\n",
      "Epoch 14/300\n",
      "37/37 [==============================] - 0s 2ms/step - loss: 225972368.0000 - val_loss: 189617168.0000\n",
      "Epoch 15/300\n",
      "37/37 [==============================] - 0s 2ms/step - loss: 148065392.0000 - val_loss: 127534736.0000\n",
      "Epoch 16/300\n",
      "37/37 [==============================] - 0s 2ms/step - loss: 105480848.0000 - val_loss: 100491552.0000\n",
      "Epoch 17/300\n",
      "37/37 [==============================] - 0s 2ms/step - loss: 90787584.0000 - val_loss: 92811888.0000\n",
      "Epoch 18/300\n",
      "37/37 [==============================] - 0s 2ms/step - loss: 87462536.0000 - val_loss: 90985960.0000\n",
      "Epoch 19/300\n",
      "37/37 [==============================] - 0s 2ms/step - loss: 86534200.0000 - val_loss: 90153256.0000\n",
      "Epoch 20/300\n",
      "37/37 [==============================] - 0s 2ms/step - loss: 85924408.0000 - val_loss: 89545624.0000\n",
      "Epoch 21/300\n",
      "37/37 [==============================] - 0s 2ms/step - loss: 85352648.0000 - val_loss: 89001056.0000\n",
      "Epoch 22/300\n",
      "37/37 [==============================] - 0s 2ms/step - loss: 84817632.0000 - val_loss: 88442512.0000\n",
      "Epoch 23/300\n",
      "37/37 [==============================] - 0s 2ms/step - loss: 84293240.0000 - val_loss: 87919128.0000\n",
      "Epoch 24/300\n",
      "37/37 [==============================] - 0s 2ms/step - loss: 83795328.0000 - val_loss: 87441144.0000\n",
      "Epoch 25/300\n",
      "37/37 [==============================] - 0s 2ms/step - loss: 83304376.0000 - val_loss: 86915216.0000\n",
      "Epoch 26/300\n",
      "37/37 [==============================] - 0s 2ms/step - loss: 82833232.0000 - val_loss: 86473840.0000\n",
      "Epoch 27/300\n",
      "37/37 [==============================] - 0s 2ms/step - loss: 82365656.0000 - val_loss: 85965704.0000\n",
      "Epoch 28/300\n",
      "37/37 [==============================] - 0s 2ms/step - loss: 81903168.0000 - val_loss: 85533656.0000\n",
      "Epoch 29/300\n",
      "37/37 [==============================] - 0s 2ms/step - loss: 81445136.0000 - val_loss: 85015016.0000\n",
      "Epoch 30/300\n",
      "37/37 [==============================] - 0s 2ms/step - loss: 80997008.0000 - val_loss: 84587448.0000\n",
      "Epoch 31/300\n",
      "37/37 [==============================] - 0s 2ms/step - loss: 80548016.0000 - val_loss: 84123264.0000\n",
      "Epoch 32/300\n",
      "37/37 [==============================] - 0s 2ms/step - loss: 80103784.0000 - val_loss: 83656048.0000\n",
      "Epoch 33/300\n",
      "37/37 [==============================] - 0s 2ms/step - loss: 79656624.0000 - val_loss: 83204336.0000\n",
      "Epoch 34/300\n",
      "37/37 [==============================] - 0s 2ms/step - loss: 79213040.0000 - val_loss: 82751528.0000\n",
      "Epoch 35/300\n",
      "37/37 [==============================] - 0s 2ms/step - loss: 78774960.0000 - val_loss: 82289736.0000\n",
      "Epoch 36/300\n",
      "37/37 [==============================] - 0s 2ms/step - loss: 78341552.0000 - val_loss: 81846056.0000\n",
      "Epoch 37/300\n",
      "37/37 [==============================] - 0s 2ms/step - loss: 77906592.0000 - val_loss: 81401752.0000\n",
      "Epoch 38/300\n",
      "37/37 [==============================] - 0s 2ms/step - loss: 77470896.0000 - val_loss: 80975528.0000\n",
      "Epoch 39/300\n",
      "37/37 [==============================] - 0s 2ms/step - loss: 77034512.0000 - val_loss: 80493400.0000\n",
      "Epoch 40/300\n",
      "37/37 [==============================] - 0s 2ms/step - loss: 76594248.0000 - val_loss: 80042584.0000\n",
      "Epoch 41/300\n",
      "37/37 [==============================] - 0s 2ms/step - loss: 76164336.0000 - val_loss: 79562120.0000\n",
      "Epoch 42/300\n",
      "37/37 [==============================] - 0s 2ms/step - loss: 75725320.0000 - val_loss: 79168912.0000\n",
      "Epoch 43/300\n",
      "37/37 [==============================] - 0s 2ms/step - loss: 75285088.0000 - val_loss: 78679384.0000\n",
      "Epoch 44/300\n",
      "37/37 [==============================] - 0s 2ms/step - loss: 74844024.0000 - val_loss: 78234824.0000\n",
      "Epoch 45/300\n",
      "37/37 [==============================] - 0s 2ms/step - loss: 74407048.0000 - val_loss: 77747200.0000\n",
      "Epoch 46/300\n",
      "37/37 [==============================] - 0s 2ms/step - loss: 73963496.0000 - val_loss: 77318248.0000\n",
      "Epoch 47/300\n",
      "37/37 [==============================] - 0s 2ms/step - loss: 73518792.0000 - val_loss: 76865152.0000\n",
      "Epoch 48/300\n",
      "37/37 [==============================] - 0s 2ms/step - loss: 73079048.0000 - val_loss: 76396320.0000\n",
      "Epoch 49/300\n",
      "37/37 [==============================] - 0s 2ms/step - loss: 72625536.0000 - val_loss: 75916688.0000\n",
      "Epoch 50/300\n",
      "37/37 [==============================] - 0s 2ms/step - loss: 72180552.0000 - val_loss: 75452736.0000\n",
      "Epoch 51/300\n",
      "37/37 [==============================] - 0s 2ms/step - loss: 71723224.0000 - val_loss: 75002736.0000\n",
      "Epoch 52/300\n",
      "37/37 [==============================] - 0s 2ms/step - loss: 71267800.0000 - val_loss: 74505360.0000\n",
      "Epoch 53/300\n",
      "37/37 [==============================] - 0s 2ms/step - loss: 70822208.0000 - val_loss: 74022344.0000\n",
      "Epoch 54/300\n",
      "37/37 [==============================] - 0s 2ms/step - loss: 70344560.0000 - val_loss: 73554376.0000\n",
      "Epoch 55/300\n",
      "37/37 [==============================] - 0s 2ms/step - loss: 69890624.0000 - val_loss: 73073176.0000\n",
      "Epoch 56/300\n",
      "37/37 [==============================] - 0s 2ms/step - loss: 69424416.0000 - val_loss: 72599608.0000\n",
      "Epoch 57/300\n",
      "37/37 [==============================] - 0s 2ms/step - loss: 68950480.0000 - val_loss: 72081088.0000\n",
      "Epoch 58/300\n",
      "37/37 [==============================] - 0s 2ms/step - loss: 68468504.0000 - val_loss: 71645800.0000\n",
      "Epoch 59/300\n",
      "37/37 [==============================] - 0s 2ms/step - loss: 68005088.0000 - val_loss: 71080272.0000\n",
      "Epoch 60/300\n",
      "37/37 [==============================] - 0s 2ms/step - loss: 67510776.0000 - val_loss: 70587896.0000\n",
      "Epoch 61/300\n",
      "37/37 [==============================] - 0s 2ms/step - loss: 67018232.0000 - val_loss: 70106992.0000\n",
      "Epoch 62/300\n",
      "37/37 [==============================] - 0s 2ms/step - loss: 66535952.0000 - val_loss: 69594264.0000\n",
      "Epoch 63/300\n",
      "37/37 [==============================] - 0s 2ms/step - loss: 66028524.0000 - val_loss: 69017136.0000\n",
      "Epoch 64/300\n",
      "37/37 [==============================] - 0s 2ms/step - loss: 65510500.0000 - val_loss: 68524200.0000\n",
      "Epoch 65/300\n",
      "37/37 [==============================] - 0s 2ms/step - loss: 65003960.0000 - val_loss: 67979800.0000\n",
      "Epoch 66/300\n",
      "37/37 [==============================] - 0s 2ms/step - loss: 64485384.0000 - val_loss: 67392848.0000\n",
      "Epoch 67/300\n",
      "37/37 [==============================] - 0s 2ms/step - loss: 63949800.0000 - val_loss: 66916656.0000\n",
      "Epoch 68/300\n",
      "37/37 [==============================] - 0s 2ms/step - loss: 63426432.0000 - val_loss: 66350616.0000\n",
      "Epoch 69/300\n",
      "37/37 [==============================] - 0s 2ms/step - loss: 62873644.0000 - val_loss: 65761764.0000\n",
      "Epoch 70/300\n",
      "37/37 [==============================] - 0s 2ms/step - loss: 62332356.0000 - val_loss: 65191372.0000\n",
      "Epoch 71/300\n",
      "37/37 [==============================] - 0s 2ms/step - loss: 61778984.0000 - val_loss: 64646604.0000\n",
      "Epoch 72/300\n"
     ]
    },
    {
     "name": "stdout",
     "output_type": "stream",
     "text": [
      "37/37 [==============================] - 0s 2ms/step - loss: 61220392.0000 - val_loss: 63987308.0000\n",
      "Epoch 73/300\n",
      "37/37 [==============================] - 0s 2ms/step - loss: 60627720.0000 - val_loss: 63397072.0000\n",
      "Epoch 74/300\n",
      "37/37 [==============================] - 0s 2ms/step - loss: 60042596.0000 - val_loss: 62795348.0000\n",
      "Epoch 75/300\n",
      "37/37 [==============================] - 0s 2ms/step - loss: 59470648.0000 - val_loss: 62221276.0000\n",
      "Epoch 76/300\n",
      "37/37 [==============================] - 0s 2ms/step - loss: 58866168.0000 - val_loss: 61575320.0000\n",
      "Epoch 77/300\n",
      "37/37 [==============================] - 0s 2ms/step - loss: 58247648.0000 - val_loss: 60970308.0000\n",
      "Epoch 78/300\n",
      "37/37 [==============================] - 0s 2ms/step - loss: 57608820.0000 - val_loss: 60239012.0000\n",
      "Epoch 79/300\n",
      "37/37 [==============================] - 0s 2ms/step - loss: 56968436.0000 - val_loss: 59545804.0000\n",
      "Epoch 80/300\n",
      "37/37 [==============================] - 0s 2ms/step - loss: 56311584.0000 - val_loss: 58921688.0000\n",
      "Epoch 81/300\n",
      "37/37 [==============================] - 0s 2ms/step - loss: 55673680.0000 - val_loss: 58158320.0000\n",
      "Epoch 82/300\n",
      "37/37 [==============================] - 0s 2ms/step - loss: 54963192.0000 - val_loss: 57550664.0000\n",
      "Epoch 83/300\n",
      "37/37 [==============================] - 0s 2ms/step - loss: 54280556.0000 - val_loss: 56734056.0000\n",
      "Epoch 84/300\n",
      "37/37 [==============================] - 0s 2ms/step - loss: 53588208.0000 - val_loss: 56044576.0000\n",
      "Epoch 85/300\n",
      "37/37 [==============================] - 0s 2ms/step - loss: 52864992.0000 - val_loss: 55276092.0000\n",
      "Epoch 86/300\n",
      "37/37 [==============================] - 0s 2ms/step - loss: 52143176.0000 - val_loss: 54553104.0000\n",
      "Epoch 87/300\n",
      "37/37 [==============================] - 0s 2ms/step - loss: 51385316.0000 - val_loss: 53750136.0000\n",
      "Epoch 88/300\n",
      "37/37 [==============================] - 0s 2ms/step - loss: 50636624.0000 - val_loss: 52927660.0000\n",
      "Epoch 89/300\n",
      "37/37 [==============================] - 0s 2ms/step - loss: 49887452.0000 - val_loss: 52148804.0000\n",
      "Epoch 90/300\n",
      "37/37 [==============================] - 0s 2ms/step - loss: 49080640.0000 - val_loss: 51332772.0000\n",
      "Epoch 91/300\n",
      "37/37 [==============================] - 0s 2ms/step - loss: 48293252.0000 - val_loss: 50538540.0000\n",
      "Epoch 92/300\n",
      "37/37 [==============================] - 0s 2ms/step - loss: 47502312.0000 - val_loss: 49679416.0000\n",
      "Epoch 93/300\n",
      "37/37 [==============================] - 0s 2ms/step - loss: 46691356.0000 - val_loss: 48849100.0000\n",
      "Epoch 94/300\n",
      "37/37 [==============================] - 0s 2ms/step - loss: 45879584.0000 - val_loss: 48006452.0000\n",
      "Epoch 95/300\n",
      "37/37 [==============================] - 0s 2ms/step - loss: 45064756.0000 - val_loss: 47108272.0000\n",
      "Epoch 96/300\n",
      "37/37 [==============================] - 0s 2ms/step - loss: 44216020.0000 - val_loss: 46243412.0000\n",
      "Epoch 97/300\n",
      "37/37 [==============================] - 0s 2ms/step - loss: 43386020.0000 - val_loss: 45400240.0000\n",
      "Epoch 98/300\n",
      "37/37 [==============================] - 0s 2ms/step - loss: 42548432.0000 - val_loss: 44503916.0000\n",
      "Epoch 99/300\n",
      "37/37 [==============================] - 0s 2ms/step - loss: 41709852.0000 - val_loss: 43632756.0000\n",
      "Epoch 100/300\n",
      "37/37 [==============================] - 0s 2ms/step - loss: 40920640.0000 - val_loss: 42865852.0000\n",
      "Epoch 101/300\n",
      "37/37 [==============================] - 0s 2ms/step - loss: 40067064.0000 - val_loss: 41917920.0000\n",
      "Epoch 102/300\n",
      "37/37 [==============================] - 0s 2ms/step - loss: 39283592.0000 - val_loss: 41233560.0000\n",
      "Epoch 103/300\n",
      "37/37 [==============================] - 0s 2ms/step - loss: 38487712.0000 - val_loss: 40216064.0000\n",
      "Epoch 104/300\n",
      "37/37 [==============================] - 0s 2ms/step - loss: 37673236.0000 - val_loss: 39388340.0000\n",
      "Epoch 105/300\n",
      "37/37 [==============================] - 0s 2ms/step - loss: 36900636.0000 - val_loss: 38573032.0000\n",
      "Epoch 106/300\n",
      "37/37 [==============================] - 0s 2ms/step - loss: 36138844.0000 - val_loss: 37802660.0000\n",
      "Epoch 107/300\n",
      "37/37 [==============================] - 0s 2ms/step - loss: 35430560.0000 - val_loss: 37067384.0000\n",
      "Epoch 108/300\n",
      "37/37 [==============================] - 0s 2ms/step - loss: 34703216.0000 - val_loss: 36323412.0000\n",
      "Epoch 109/300\n",
      "37/37 [==============================] - 0s 2ms/step - loss: 34024964.0000 - val_loss: 35600916.0000\n",
      "Epoch 110/300\n",
      "37/37 [==============================] - 0s 2ms/step - loss: 33344656.0000 - val_loss: 34885196.0000\n",
      "Epoch 111/300\n",
      "37/37 [==============================] - 0s 2ms/step - loss: 32702784.0000 - val_loss: 34212500.0000\n",
      "Epoch 112/300\n",
      "37/37 [==============================] - 0s 2ms/step - loss: 32074072.0000 - val_loss: 33553690.0000\n",
      "Epoch 113/300\n",
      "37/37 [==============================] - 0s 2ms/step - loss: 31497866.0000 - val_loss: 32911824.0000\n",
      "Epoch 114/300\n",
      "37/37 [==============================] - 0s 2ms/step - loss: 30909860.0000 - val_loss: 32315808.0000\n",
      "Epoch 115/300\n",
      "37/37 [==============================] - 0s 2ms/step - loss: 30366606.0000 - val_loss: 31747550.0000\n",
      "Epoch 116/300\n",
      "37/37 [==============================] - 0s 2ms/step - loss: 29847606.0000 - val_loss: 31193520.0000\n",
      "Epoch 117/300\n",
      "37/37 [==============================] - 0s 2ms/step - loss: 29386486.0000 - val_loss: 30683354.0000\n",
      "Epoch 118/300\n",
      "37/37 [==============================] - 0s 2ms/step - loss: 28894288.0000 - val_loss: 30195978.0000\n",
      "Epoch 119/300\n",
      "37/37 [==============================] - 0s 2ms/step - loss: 28457092.0000 - val_loss: 29710278.0000\n",
      "Epoch 120/300\n",
      "37/37 [==============================] - 0s 2ms/step - loss: 28045828.0000 - val_loss: 29261888.0000\n",
      "Epoch 121/300\n",
      "37/37 [==============================] - 0s 2ms/step - loss: 27631246.0000 - val_loss: 28885710.0000\n",
      "Epoch 122/300\n",
      "37/37 [==============================] - 0s 2ms/step - loss: 27253224.0000 - val_loss: 28454438.0000\n",
      "Epoch 123/300\n",
      "37/37 [==============================] - 0s 2ms/step - loss: 26874714.0000 - val_loss: 28055368.0000\n",
      "Epoch 124/300\n",
      "37/37 [==============================] - 0s 2ms/step - loss: 26528470.0000 - val_loss: 27744832.0000\n",
      "Epoch 125/300\n",
      "37/37 [==============================] - 0s 2ms/step - loss: 26209840.0000 - val_loss: 27343592.0000\n",
      "Epoch 126/300\n",
      "37/37 [==============================] - 0s 2ms/step - loss: 25882442.0000 - val_loss: 27046044.0000\n",
      "Epoch 127/300\n",
      "37/37 [==============================] - 0s 2ms/step - loss: 25592348.0000 - val_loss: 26749218.0000\n",
      "Epoch 128/300\n",
      "37/37 [==============================] - 0s 2ms/step - loss: 25306046.0000 - val_loss: 26416948.0000\n",
      "Epoch 129/300\n",
      "37/37 [==============================] - 0s 2ms/step - loss: 25030840.0000 - val_loss: 26180034.0000\n",
      "Epoch 130/300\n",
      "37/37 [==============================] - 0s 2ms/step - loss: 24823072.0000 - val_loss: 25914934.0000\n",
      "Epoch 131/300\n",
      "37/37 [==============================] - 0s 2ms/step - loss: 24590932.0000 - val_loss: 25686084.0000\n",
      "Epoch 132/300\n",
      "37/37 [==============================] - 0s 2ms/step - loss: 24407562.0000 - val_loss: 25506982.0000\n",
      "Epoch 133/300\n",
      "37/37 [==============================] - 0s 2ms/step - loss: 24239662.0000 - val_loss: 25327418.0000\n",
      "Epoch 134/300\n",
      "37/37 [==============================] - 0s 2ms/step - loss: 24097346.0000 - val_loss: 25160156.0000\n",
      "Epoch 135/300\n",
      "37/37 [==============================] - 0s 2ms/step - loss: 23975352.0000 - val_loss: 25015842.0000\n",
      "Epoch 136/300\n",
      "37/37 [==============================] - 0s 2ms/step - loss: 23819794.0000 - val_loss: 24885998.0000\n",
      "Epoch 137/300\n",
      "37/37 [==============================] - 0s 2ms/step - loss: 23688012.0000 - val_loss: 24748524.0000\n",
      "Epoch 138/300\n",
      "37/37 [==============================] - 0s 2ms/step - loss: 23568220.0000 - val_loss: 24613286.0000\n",
      "Epoch 139/300\n",
      "37/37 [==============================] - 0s 2ms/step - loss: 23459304.0000 - val_loss: 24551530.0000\n",
      "Epoch 140/300\n",
      "37/37 [==============================] - 0s 2ms/step - loss: 23365598.0000 - val_loss: 24357488.0000\n",
      "Epoch 141/300\n",
      "37/37 [==============================] - 0s 2ms/step - loss: 23238728.0000 - val_loss: 24267134.0000\n",
      "Epoch 142/300\n",
      "37/37 [==============================] - 0s 2ms/step - loss: 23133816.0000 - val_loss: 24233462.0000\n",
      "Epoch 143/300\n"
     ]
    },
    {
     "name": "stdout",
     "output_type": "stream",
     "text": [
      "37/37 [==============================] - 0s 2ms/step - loss: 23062994.0000 - val_loss: 24045244.0000\n",
      "Epoch 144/300\n",
      "37/37 [==============================] - 0s 2ms/step - loss: 22959230.0000 - val_loss: 23946682.0000\n",
      "Epoch 145/300\n",
      "37/37 [==============================] - 0s 2ms/step - loss: 22882688.0000 - val_loss: 23834962.0000\n",
      "Epoch 146/300\n",
      "37/37 [==============================] - 0s 2ms/step - loss: 22775082.0000 - val_loss: 23832994.0000\n",
      "Epoch 147/300\n",
      "37/37 [==============================] - 0s 2ms/step - loss: 22734396.0000 - val_loss: 23663694.0000\n",
      "Epoch 148/300\n",
      "37/37 [==============================] - 0s 2ms/step - loss: 22625208.0000 - val_loss: 23570992.0000\n",
      "Epoch 149/300\n",
      "37/37 [==============================] - 0s 2ms/step - loss: 22548448.0000 - val_loss: 23484620.0000\n",
      "Epoch 150/300\n",
      "37/37 [==============================] - 0s 2ms/step - loss: 22445538.0000 - val_loss: 23411920.0000\n",
      "Epoch 151/300\n",
      "37/37 [==============================] - 0s 2ms/step - loss: 22360772.0000 - val_loss: 23310864.0000\n",
      "Epoch 152/300\n",
      "37/37 [==============================] - 0s 2ms/step - loss: 22292600.0000 - val_loss: 23212722.0000\n",
      "Epoch 153/300\n",
      "37/37 [==============================] - 0s 2ms/step - loss: 22212160.0000 - val_loss: 23134444.0000\n",
      "Epoch 154/300\n",
      "37/37 [==============================] - 0s 2ms/step - loss: 22099880.0000 - val_loss: 23152968.0000\n",
      "Epoch 155/300\n",
      "37/37 [==============================] - 0s 2ms/step - loss: 22045136.0000 - val_loss: 22952924.0000\n",
      "Epoch 156/300\n",
      "37/37 [==============================] - ETA: 0s - loss: 25433024.00 - 0s 2ms/step - loss: 21929516.0000 - val_loss: 22876676.0000\n",
      "Epoch 157/300\n",
      "37/37 [==============================] - 0s 2ms/step - loss: 21847046.0000 - val_loss: 22811124.0000\n",
      "Epoch 158/300\n",
      "37/37 [==============================] - 0s 2ms/step - loss: 21762974.0000 - val_loss: 22715318.0000\n",
      "Epoch 159/300\n",
      "37/37 [==============================] - 0s 2ms/step - loss: 21724410.0000 - val_loss: 22666534.0000\n",
      "Epoch 160/300\n",
      "37/37 [==============================] - 0s 2ms/step - loss: 21644176.0000 - val_loss: 22573060.0000\n",
      "Epoch 161/300\n",
      "37/37 [==============================] - 0s 2ms/step - loss: 21549360.0000 - val_loss: 22532730.0000\n",
      "Epoch 162/300\n",
      "37/37 [==============================] - 0s 2ms/step - loss: 21511740.0000 - val_loss: 22452850.0000\n",
      "Epoch 163/300\n",
      "37/37 [==============================] - 0s 2ms/step - loss: 21423844.0000 - val_loss: 22400784.0000\n",
      "Epoch 164/300\n",
      "37/37 [==============================] - 0s 2ms/step - loss: 21366952.0000 - val_loss: 22377110.0000\n",
      "Epoch 165/300\n",
      "37/37 [==============================] - 0s 2ms/step - loss: 21329314.0000 - val_loss: 22378318.0000\n",
      "Epoch 166/300\n",
      "37/37 [==============================] - 0s 2ms/step - loss: 21271130.0000 - val_loss: 22254106.0000\n",
      "Epoch 167/300\n",
      "37/37 [==============================] - 0s 2ms/step - loss: 21229174.0000 - val_loss: 22208116.0000\n",
      "Epoch 168/300\n",
      "37/37 [==============================] - 0s 2ms/step - loss: 21178354.0000 - val_loss: 22190446.0000\n",
      "Epoch 169/300\n",
      "37/37 [==============================] - 0s 2ms/step - loss: 21147064.0000 - val_loss: 22236182.0000\n",
      "Epoch 170/300\n",
      "37/37 [==============================] - 0s 2ms/step - loss: 21101170.0000 - val_loss: 22089502.0000\n",
      "Epoch 171/300\n",
      "37/37 [==============================] - 0s 2ms/step - loss: 21053260.0000 - val_loss: 22083562.0000\n",
      "Epoch 172/300\n",
      "37/37 [==============================] - 0s 2ms/step - loss: 21035894.0000 - val_loss: 22016294.0000\n",
      "Epoch 173/300\n",
      "37/37 [==============================] - 0s 2ms/step - loss: 20984842.0000 - val_loss: 21985480.0000\n",
      "Epoch 174/300\n",
      "37/37 [==============================] - 0s 2ms/step - loss: 20975062.0000 - val_loss: 21960910.0000\n",
      "Epoch 175/300\n",
      "37/37 [==============================] - 0s 2ms/step - loss: 20930818.0000 - val_loss: 21940484.0000\n",
      "Epoch 176/300\n",
      "37/37 [==============================] - 0s 2ms/step - loss: 20884814.0000 - val_loss: 21939342.0000\n",
      "Epoch 177/300\n",
      "37/37 [==============================] - 0s 2ms/step - loss: 20848794.0000 - val_loss: 21858968.0000\n",
      "Epoch 178/300\n",
      "37/37 [==============================] - 0s 2ms/step - loss: 20841824.0000 - val_loss: 21848120.0000\n",
      "Epoch 179/300\n",
      "37/37 [==============================] - 0s 2ms/step - loss: 20777956.0000 - val_loss: 21801630.0000\n",
      "Epoch 180/300\n",
      "37/37 [==============================] - 0s 2ms/step - loss: 20752950.0000 - val_loss: 21772764.0000\n",
      "Epoch 181/300\n",
      "37/37 [==============================] - 0s 2ms/step - loss: 20742292.0000 - val_loss: 21750536.0000\n",
      "Epoch 182/300\n",
      "37/37 [==============================] - 0s 2ms/step - loss: 20704742.0000 - val_loss: 21711366.0000\n",
      "Epoch 183/300\n",
      "37/37 [==============================] - 0s 2ms/step - loss: 20691392.0000 - val_loss: 21682758.0000\n",
      "Epoch 184/300\n",
      "37/37 [==============================] - 0s 2ms/step - loss: 20625998.0000 - val_loss: 21709978.0000\n",
      "Epoch 185/300\n",
      "37/37 [==============================] - 0s 2ms/step - loss: 20604338.0000 - val_loss: 21635416.0000\n",
      "Epoch 186/300\n",
      "37/37 [==============================] - 0s 2ms/step - loss: 20582476.0000 - val_loss: 21628786.0000\n",
      "Epoch 187/300\n",
      "37/37 [==============================] - 0s 2ms/step - loss: 20575958.0000 - val_loss: 21590356.0000\n",
      "Epoch 188/300\n",
      "37/37 [==============================] - 0s 2ms/step - loss: 20556366.0000 - val_loss: 21584504.0000\n",
      "Epoch 189/300\n",
      "37/37 [==============================] - 0s 2ms/step - loss: 20506082.0000 - val_loss: 21604212.0000\n",
      "Epoch 190/300\n",
      "37/37 [==============================] - 0s 2ms/step - loss: 20497744.0000 - val_loss: 21536086.0000\n",
      "Epoch 191/300\n",
      "37/37 [==============================] - 0s 2ms/step - loss: 20455498.0000 - val_loss: 21579070.0000\n",
      "Epoch 192/300\n",
      "37/37 [==============================] - 0s 2ms/step - loss: 20439760.0000 - val_loss: 21552838.0000\n",
      "Epoch 193/300\n",
      "37/37 [==============================] - 0s 2ms/step - loss: 20405754.0000 - val_loss: 21484910.0000\n",
      "Epoch 194/300\n",
      "37/37 [==============================] - 0s 2ms/step - loss: 20358824.0000 - val_loss: 21451072.0000\n",
      "Epoch 195/300\n",
      "37/37 [==============================] - 0s 2ms/step - loss: 20335558.0000 - val_loss: 21415012.0000\n",
      "Epoch 196/300\n",
      "37/37 [==============================] - 0s 4ms/step - loss: 20328928.0000 - val_loss: 21463656.0000\n",
      "Epoch 197/300\n",
      "37/37 [==============================] - 0s 3ms/step - loss: 20328532.0000 - val_loss: 21392534.0000\n",
      "Epoch 198/300\n",
      "37/37 [==============================] - 0s 2ms/step - loss: 20272636.0000 - val_loss: 21352358.0000\n",
      "Epoch 199/300\n",
      "37/37 [==============================] - 0s 3ms/step - loss: 20242224.0000 - val_loss: 21325980.0000\n",
      "Epoch 200/300\n",
      "37/37 [==============================] - 0s 2ms/step - loss: 20211042.0000 - val_loss: 21333654.0000\n",
      "Epoch 201/300\n",
      "37/37 [==============================] - 0s 4ms/step - loss: 20223732.0000 - val_loss: 21273732.0000\n",
      "Epoch 202/300\n",
      "37/37 [==============================] - 0s 2ms/step - loss: 20160678.0000 - val_loss: 21257336.0000\n",
      "Epoch 203/300\n",
      "37/37 [==============================] - 0s 3ms/step - loss: 20157872.0000 - val_loss: 21228206.0000\n",
      "Epoch 204/300\n",
      "37/37 [==============================] - 0s 2ms/step - loss: 20111674.0000 - val_loss: 21211322.0000\n",
      "Epoch 205/300\n",
      "37/37 [==============================] - 0s 3ms/step - loss: 20101614.0000 - val_loss: 21189814.0000\n",
      "Epoch 206/300\n",
      "37/37 [==============================] - 0s 2ms/step - loss: 20082998.0000 - val_loss: 21183458.0000\n",
      "Epoch 207/300\n",
      "37/37 [==============================] - 0s 2ms/step - loss: 20056018.0000 - val_loss: 21166240.0000\n",
      "Epoch 208/300\n",
      "37/37 [==============================] - 0s 2ms/step - loss: 20024704.0000 - val_loss: 21157960.0000\n",
      "Epoch 209/300\n",
      "37/37 [==============================] - 0s 3ms/step - loss: 20031796.0000 - val_loss: 21110256.0000\n",
      "Epoch 210/300\n",
      "37/37 [==============================] - 0s 3ms/step - loss: 20012414.0000 - val_loss: 21152558.0000\n",
      "Epoch 211/300\n",
      "37/37 [==============================] - 0s 3ms/step - loss: 19975880.0000 - val_loss: 21143718.0000\n",
      "Epoch 212/300\n",
      "37/37 [==============================] - 0s 3ms/step - loss: 19954940.0000 - val_loss: 21127634.0000\n",
      "Epoch 213/300\n",
      "37/37 [==============================] - 0s 2ms/step - loss: 19950210.0000 - val_loss: 21033128.0000\n",
      "Epoch 214/300\n"
     ]
    },
    {
     "name": "stdout",
     "output_type": "stream",
     "text": [
      "37/37 [==============================] - 0s 2ms/step - loss: 19943168.0000 - val_loss: 21082176.0000\n",
      "Epoch 215/300\n",
      "37/37 [==============================] - 0s 2ms/step - loss: 19920094.0000 - val_loss: 21020186.0000\n",
      "Epoch 216/300\n",
      "37/37 [==============================] - 0s 2ms/step - loss: 19872062.0000 - val_loss: 21027144.0000\n",
      "Epoch 217/300\n",
      "37/37 [==============================] - 0s 2ms/step - loss: 19849276.0000 - val_loss: 20988840.0000\n",
      "Epoch 218/300\n",
      "37/37 [==============================] - 0s 2ms/step - loss: 19849798.0000 - val_loss: 20963504.0000\n",
      "Epoch 219/300\n",
      "37/37 [==============================] - 0s 2ms/step - loss: 19852236.0000 - val_loss: 20933748.0000\n",
      "Epoch 220/300\n",
      "37/37 [==============================] - 0s 2ms/step - loss: 19794184.0000 - val_loss: 20969842.0000\n",
      "Epoch 221/300\n",
      "37/37 [==============================] - 0s 2ms/step - loss: 19789656.0000 - val_loss: 20901034.0000\n",
      "Epoch 222/300\n",
      "37/37 [==============================] - 0s 3ms/step - loss: 19788196.0000 - val_loss: 20927682.0000\n",
      "Epoch 223/300\n",
      "37/37 [==============================] - 0s 2ms/step - loss: 19755526.0000 - val_loss: 20886868.0000\n",
      "Epoch 224/300\n",
      "37/37 [==============================] - 0s 3ms/step - loss: 19741226.0000 - val_loss: 21000050.0000\n",
      "Epoch 225/300\n",
      "37/37 [==============================] - 0s 3ms/step - loss: 19727458.0000 - val_loss: 20851570.0000\n",
      "Epoch 226/300\n",
      "37/37 [==============================] - 0s 3ms/step - loss: 19728546.0000 - val_loss: 20902352.0000\n",
      "Epoch 227/300\n",
      "37/37 [==============================] - 0s 2ms/step - loss: 19699034.0000 - val_loss: 20909274.0000\n",
      "Epoch 228/300\n",
      "37/37 [==============================] - 0s 2ms/step - loss: 19714858.0000 - val_loss: 20982592.0000\n",
      "Epoch 229/300\n",
      "37/37 [==============================] - 0s 2ms/step - loss: 19671638.0000 - val_loss: 20828486.0000\n",
      "Epoch 230/300\n",
      "37/37 [==============================] - 0s 2ms/step - loss: 19693038.0000 - val_loss: 20835480.0000\n",
      "Epoch 231/300\n",
      "37/37 [==============================] - 0s 2ms/step - loss: 19644410.0000 - val_loss: 20777264.0000\n",
      "Epoch 232/300\n",
      "37/37 [==============================] - 0s 2ms/step - loss: 19632138.0000 - val_loss: 20767418.0000\n",
      "Epoch 233/300\n",
      "37/37 [==============================] - 0s 2ms/step - loss: 19634252.0000 - val_loss: 20781540.0000\n",
      "Epoch 234/300\n",
      "37/37 [==============================] - 0s 2ms/step - loss: 19670768.0000 - val_loss: 20746718.0000\n",
      "Epoch 235/300\n",
      "37/37 [==============================] - 0s 2ms/step - loss: 19589142.0000 - val_loss: 20763750.0000\n",
      "Epoch 236/300\n",
      "37/37 [==============================] - 0s 2ms/step - loss: 19573354.0000 - val_loss: 20774364.0000\n",
      "Epoch 237/300\n",
      "37/37 [==============================] - 0s 2ms/step - loss: 19562028.0000 - val_loss: 20739198.0000\n",
      "Epoch 238/300\n",
      "37/37 [==============================] - 0s 2ms/step - loss: 19548108.0000 - val_loss: 20709328.0000\n",
      "Epoch 239/300\n",
      "37/37 [==============================] - 0s 2ms/step - loss: 19544662.0000 - val_loss: 20717238.0000\n",
      "Epoch 240/300\n",
      "37/37 [==============================] - 0s 2ms/step - loss: 19525410.0000 - val_loss: 20702282.0000\n",
      "Epoch 241/300\n",
      "37/37 [==============================] - 0s 2ms/step - loss: 19516206.0000 - val_loss: 20688534.0000\n",
      "Epoch 242/300\n",
      "37/37 [==============================] - 0s 2ms/step - loss: 19498894.0000 - val_loss: 20701632.0000\n",
      "Epoch 243/300\n",
      "37/37 [==============================] - 0s 2ms/step - loss: 19497562.0000 - val_loss: 20662956.0000\n",
      "Epoch 244/300\n",
      "37/37 [==============================] - 0s 2ms/step - loss: 19500440.0000 - val_loss: 20667310.0000\n",
      "Epoch 245/300\n",
      "37/37 [==============================] - 0s 2ms/step - loss: 19503354.0000 - val_loss: 20666018.0000\n",
      "Epoch 246/300\n",
      "37/37 [==============================] - 0s 2ms/step - loss: 19479200.0000 - val_loss: 20630698.0000\n",
      "Epoch 247/300\n",
      "37/37 [==============================] - 0s 2ms/step - loss: 19437246.0000 - val_loss: 20626926.0000\n",
      "Epoch 248/300\n",
      "37/37 [==============================] - 0s 2ms/step - loss: 19432398.0000 - val_loss: 20617824.0000\n",
      "Epoch 249/300\n",
      "37/37 [==============================] - 0s 2ms/step - loss: 19420016.0000 - val_loss: 20619076.0000\n",
      "Epoch 250/300\n",
      "37/37 [==============================] - 0s 2ms/step - loss: 19417846.0000 - val_loss: 20608446.0000\n",
      "Epoch 251/300\n",
      "37/37 [==============================] - 0s 2ms/step - loss: 19423358.0000 - val_loss: 20592954.0000\n",
      "Epoch 252/300\n",
      "37/37 [==============================] - 0s 2ms/step - loss: 19386720.0000 - val_loss: 20586028.0000\n",
      "Epoch 253/300\n",
      "37/37 [==============================] - 0s 2ms/step - loss: 19388692.0000 - val_loss: 20573062.0000\n",
      "Epoch 254/300\n",
      "37/37 [==============================] - 0s 2ms/step - loss: 19359748.0000 - val_loss: 20565748.0000\n",
      "Epoch 255/300\n",
      "37/37 [==============================] - 0s 2ms/step - loss: 19343906.0000 - val_loss: 20599710.0000\n",
      "Epoch 256/300\n",
      "37/37 [==============================] - 0s 2ms/step - loss: 19357040.0000 - val_loss: 20599112.0000\n",
      "Epoch 257/300\n",
      "37/37 [==============================] - 0s 2ms/step - loss: 19321944.0000 - val_loss: 20538520.0000\n",
      "Epoch 258/300\n",
      "37/37 [==============================] - 0s 2ms/step - loss: 19320704.0000 - val_loss: 20577784.0000\n",
      "Epoch 259/300\n",
      "37/37 [==============================] - 0s 2ms/step - loss: 19307660.0000 - val_loss: 20545736.0000\n",
      "Epoch 260/300\n",
      "37/37 [==============================] - 0s 2ms/step - loss: 19325304.0000 - val_loss: 20512508.0000\n",
      "Epoch 261/300\n",
      "37/37 [==============================] - 0s 2ms/step - loss: 19286978.0000 - val_loss: 20521236.0000\n",
      "Epoch 262/300\n",
      "37/37 [==============================] - 0s 2ms/step - loss: 19289324.0000 - val_loss: 20506306.0000\n",
      "Epoch 263/300\n",
      "37/37 [==============================] - 0s 2ms/step - loss: 19286760.0000 - val_loss: 20483450.0000\n",
      "Epoch 264/300\n",
      "37/37 [==============================] - 0s 2ms/step - loss: 19249170.0000 - val_loss: 20481970.0000\n",
      "Epoch 265/300\n",
      "37/37 [==============================] - 0s 2ms/step - loss: 19274968.0000 - val_loss: 20471386.0000\n",
      "Epoch 266/300\n",
      "37/37 [==============================] - 0s 2ms/step - loss: 19230566.0000 - val_loss: 20482018.0000\n",
      "Epoch 267/300\n",
      "37/37 [==============================] - 0s 2ms/step - loss: 19219692.0000 - val_loss: 20468918.0000\n",
      "Epoch 268/300\n",
      "37/37 [==============================] - 0s 2ms/step - loss: 19220490.0000 - val_loss: 20446860.0000\n",
      "Epoch 269/300\n",
      "37/37 [==============================] - 0s 2ms/step - loss: 19210284.0000 - val_loss: 20430684.0000\n",
      "Epoch 270/300\n",
      "37/37 [==============================] - 0s 2ms/step - loss: 19190304.0000 - val_loss: 20504520.0000\n",
      "Epoch 271/300\n",
      "37/37 [==============================] - 0s 2ms/step - loss: 19206370.0000 - val_loss: 20431054.0000\n",
      "Epoch 272/300\n",
      "37/37 [==============================] - 0s 2ms/step - loss: 19172796.0000 - val_loss: 20434304.0000\n",
      "Epoch 273/300\n",
      "37/37 [==============================] - 0s 2ms/step - loss: 19162874.0000 - val_loss: 20406506.0000\n",
      "Epoch 274/300\n",
      "37/37 [==============================] - 0s 2ms/step - loss: 19167584.0000 - val_loss: 20404112.0000\n",
      "Epoch 275/300\n",
      "37/37 [==============================] - 0s 2ms/step - loss: 19142852.0000 - val_loss: 20426598.0000\n",
      "Epoch 276/300\n",
      "37/37 [==============================] - 0s 2ms/step - loss: 19149414.0000 - val_loss: 20381826.0000\n",
      "Epoch 277/300\n",
      "37/37 [==============================] - 0s 2ms/step - loss: 19136480.0000 - val_loss: 20384748.0000\n",
      "Epoch 278/300\n",
      "37/37 [==============================] - 0s 2ms/step - loss: 19126150.0000 - val_loss: 20375196.0000\n",
      "Epoch 279/300\n",
      "37/37 [==============================] - 0s 2ms/step - loss: 19106248.0000 - val_loss: 20361420.0000\n",
      "Epoch 280/300\n",
      "37/37 [==============================] - 0s 2ms/step - loss: 19113566.0000 - val_loss: 20355194.0000\n",
      "Epoch 281/300\n",
      "37/37 [==============================] - 0s 2ms/step - loss: 19133000.0000 - val_loss: 20372698.0000\n",
      "Epoch 282/300\n",
      "37/37 [==============================] - 0s 3ms/step - loss: 19073612.0000 - val_loss: 20327314.0000\n",
      "Epoch 283/300\n",
      "37/37 [==============================] - 0s 2ms/step - loss: 19068920.0000 - val_loss: 20332180.0000\n",
      "Epoch 284/300\n",
      "37/37 [==============================] - 0s 2ms/step - loss: 19061078.0000 - val_loss: 20315958.0000\n",
      "Epoch 285/300\n"
     ]
    },
    {
     "name": "stdout",
     "output_type": "stream",
     "text": [
      "37/37 [==============================] - 0s 2ms/step - loss: 19054802.0000 - val_loss: 20307404.0000\n",
      "Epoch 286/300\n",
      "37/37 [==============================] - 0s 2ms/step - loss: 19075984.0000 - val_loss: 20306838.0000\n",
      "Epoch 287/300\n",
      "37/37 [==============================] - 0s 2ms/step - loss: 19049018.0000 - val_loss: 20292190.0000\n",
      "Epoch 288/300\n",
      "37/37 [==============================] - 0s 2ms/step - loss: 19039862.0000 - val_loss: 20295194.0000\n",
      "Epoch 289/300\n",
      "37/37 [==============================] - 0s 2ms/step - loss: 19028198.0000 - val_loss: 20276528.0000\n",
      "Epoch 290/300\n",
      "37/37 [==============================] - 0s 2ms/step - loss: 19022280.0000 - val_loss: 20387862.0000\n",
      "Epoch 291/300\n",
      "37/37 [==============================] - 0s 2ms/step - loss: 19013754.0000 - val_loss: 20265526.0000\n",
      "Epoch 292/300\n",
      "37/37 [==============================] - 0s 2ms/step - loss: 19008580.0000 - val_loss: 20380452.0000\n",
      "Epoch 293/300\n",
      "37/37 [==============================] - 0s 2ms/step - loss: 19028348.0000 - val_loss: 20341154.0000\n",
      "Epoch 294/300\n",
      "37/37 [==============================] - 0s 2ms/step - loss: 18999670.0000 - val_loss: 20279154.0000\n",
      "Epoch 295/300\n",
      "37/37 [==============================] - 0s 2ms/step - loss: 19017152.0000 - val_loss: 20277968.0000\n",
      "Epoch 296/300\n",
      "37/37 [==============================] - 0s 2ms/step - loss: 18983862.0000 - val_loss: 20447980.0000\n",
      "Epoch 297/300\n",
      "37/37 [==============================] - 0s 2ms/step - loss: 18989000.0000 - val_loss: 20224196.0000\n",
      "Epoch 298/300\n",
      "37/37 [==============================] - 0s 2ms/step - loss: 18973416.0000 - val_loss: 20213522.0000\n",
      "Epoch 299/300\n",
      "37/37 [==============================] - 0s 2ms/step - loss: 18959226.0000 - val_loss: 20228696.0000\n",
      "Epoch 300/300\n",
      "37/37 [==============================] - 0s 2ms/step - loss: 18953774.0000 - val_loss: 20233728.0000\n"
     ]
    },
    {
     "data": {
      "text/plain": [
       "<tensorflow.python.keras.callbacks.History at 0x28385da4eb0>"
      ]
     },
     "execution_count": 68,
     "metadata": {},
     "output_type": "execute_result"
    }
   ],
   "source": [
    "model.fit(x=x_train, y=y_train, validation_data=(x_test,y_test), batch_size=250, epochs = 300)"
   ]
  },
  {
   "cell_type": "code",
   "execution_count": 69,
   "id": "8c1a5a17",
   "metadata": {},
   "outputs": [],
   "source": [
    "kayipVerisi = pd.DataFrame(model.history.history)"
   ]
  },
  {
   "cell_type": "code",
   "execution_count": 70,
   "id": "d0d4b272",
   "metadata": {},
   "outputs": [
    {
     "data": {
      "text/html": [
       "<div>\n",
       "<style scoped>\n",
       "    .dataframe tbody tr th:only-of-type {\n",
       "        vertical-align: middle;\n",
       "    }\n",
       "\n",
       "    .dataframe tbody tr th {\n",
       "        vertical-align: top;\n",
       "    }\n",
       "\n",
       "    .dataframe thead th {\n",
       "        text-align: right;\n",
       "    }\n",
       "</style>\n",
       "<table border=\"1\" class=\"dataframe\">\n",
       "  <thead>\n",
       "    <tr style=\"text-align: right;\">\n",
       "      <th></th>\n",
       "      <th>loss</th>\n",
       "      <th>val_loss</th>\n",
       "    </tr>\n",
       "  </thead>\n",
       "  <tbody>\n",
       "    <tr>\n",
       "      <th>0</th>\n",
       "      <td>671180352.0</td>\n",
       "      <td>690258304.0</td>\n",
       "    </tr>\n",
       "    <tr>\n",
       "      <th>1</th>\n",
       "      <td>671122624.0</td>\n",
       "      <td>690166784.0</td>\n",
       "    </tr>\n",
       "    <tr>\n",
       "      <th>2</th>\n",
       "      <td>670964032.0</td>\n",
       "      <td>689894848.0</td>\n",
       "    </tr>\n",
       "    <tr>\n",
       "      <th>3</th>\n",
       "      <td>670499392.0</td>\n",
       "      <td>689124928.0</td>\n",
       "    </tr>\n",
       "    <tr>\n",
       "      <th>4</th>\n",
       "      <td>669236672.0</td>\n",
       "      <td>687096704.0</td>\n",
       "    </tr>\n",
       "  </tbody>\n",
       "</table>\n",
       "</div>"
      ],
      "text/plain": [
       "          loss     val_loss\n",
       "0  671180352.0  690258304.0\n",
       "1  671122624.0  690166784.0\n",
       "2  670964032.0  689894848.0\n",
       "3  670499392.0  689124928.0\n",
       "4  669236672.0  687096704.0"
      ]
     },
     "execution_count": 70,
     "metadata": {},
     "output_type": "execute_result"
    }
   ],
   "source": [
    "kayipVerisi.head()"
   ]
  },
  {
   "cell_type": "code",
   "execution_count": 71,
   "id": "fc7c8bf8",
   "metadata": {},
   "outputs": [
    {
     "data": {
      "text/plain": [
       "<AxesSubplot:>"
      ]
     },
     "execution_count": 71,
     "metadata": {},
     "output_type": "execute_result"
    },
    {
     "data": {
      "image/png": "[encoded data removed]",
      "text/plain": [
       "<Figure size 432x288 with 1 Axes>"
      ]
     },
     "metadata": {
      "needs_background": "light"
     },
     "output_type": "display_data"
    }
   ],
   "source": [
    "kayipVerisi.plot()"
   ]
  },
  {
   "cell_type": "code",
   "execution_count": 72,
   "id": "f046f9f3",
   "metadata": {},
   "outputs": [],
   "source": [
    "from sklearn.metrics import mean_squared_error , mean_absolute_error"
   ]
  },
  {
   "cell_type": "code",
   "execution_count": 73,
   "id": "a4ed3cac",
   "metadata": {},
   "outputs": [],
   "source": [
    "tahminDizisi = model.predict(x_test)"
   ]
  },
  {
   "cell_type": "code",
   "execution_count": 74,
   "id": "66b6591b",
   "metadata": {},
   "outputs": [
    {
     "data": {
      "text/plain": [
       "array([[14302.305],\n",
       "       [25484.053],\n",
       "       [19084.762],\n",
       "       ...,\n",
       "       [26240.836],\n",
       "       [42029.855],\n",
       "       [14517.543]], dtype=float32)"
      ]
     },
     "execution_count": 74,
     "metadata": {},
     "output_type": "execute_result"
    }
   ],
   "source": [
    "tahminDizisi"
   ]
  },
  {
   "cell_type": "code",
   "execution_count": 75,
   "id": "2df41a65",
   "metadata": {},
   "outputs": [
    {
     "data": {
      "text/plain": [
       "3160.056934195174"
      ]
     },
     "execution_count": 75,
     "metadata": {},
     "output_type": "execute_result"
    }
   ],
   "source": [
    "mean_absolute_error(y_test,tahminDizisi)"
   ]
  },
  {
   "cell_type": "code",
   "execution_count": 78,
   "id": "7cdc7043",
   "metadata": {},
   "outputs": [
    {
     "data": {
      "text/plain": [
       "[<matplotlib.lines.Line2D at 0x283875924c0>]"
      ]
     },
     "execution_count": 78,
     "metadata": {},
     "output_type": "execute_result"
    },
    {
     "data": {
      "image/png": "[encoded data removed]",
      "text/plain": [
       "<Figure size 432x288 with 1 Axes>"
      ]
     },
     "metadata": {
      "needs_background": "light"
     },
     "output_type": "display_data"
    }
   ],
   "source": [
    "plt.scatter(y_test,tahminDizisi)\n",
    "plt.plot(y_test,y_test,\"g-*\")"
   ]
  },
  {
   "cell_type": "code",
   "execution_count": 79,
   "id": "418cd420",
   "metadata": {},
   "outputs": [
    {
     "data": {
      "text/plain": [
       "year           2018.0\n",
       "price         64999.0\n",
       "mileage       41102.0\n",
       "tax             145.0\n",
       "mpg              23.0\n",
       "engineSize        5.5\n",
       "Name: 8083, dtype: float64"
      ]
     },
     "execution_count": 79,
     "metadata": {},
     "output_type": "execute_result"
    }
   ],
   "source": [
    "dataFrame.iloc[5]"
   ]
  },
  {
   "cell_type": "code",
   "execution_count": 80,
   "id": "0857d64f",
   "metadata": {},
   "outputs": [],
   "source": [
    "yeniArabaSeries = dataFrame.drop(\"price\", axis = 1).iloc[5]"
   ]
  },
  {
   "cell_type": "code",
   "execution_count": 81,
   "id": "6848051d",
   "metadata": {},
   "outputs": [],
   "source": [
    "yeniArabaSeries = scaler.transform(yeniArabaSeries.values.reshape(-1,5))"
   ]
  },
  {
   "cell_type": "code",
   "execution_count": 82,
   "id": "cc3135cd",
   "metadata": {},
   "outputs": [
    {
     "data": {
      "text/plain": [
       "array([[59193.406]], dtype=float32)"
      ]
     },
     "execution_count": 82,
     "metadata": {},
     "output_type": "execute_result"
    }
   ],
   "source": [
    "model.predict(yeniArabaSeries)"
   ]
  },
  {
   "cell_type": "code",
   "execution_count": null,
   "id": "4d78ef10",
   "metadata": {},
   "outputs": [],
   "source": []
  }
 ],
 "metadata": {
  "kernelspec": {
   "display_name": "Python 3",
   "language": "python",
   "name": "python3"
  },
  "language_info": {
   "codemirror_mode": {
    "name": "ipython",
    "version": 3
   },
   "file_extension": ".py",
   "mimetype": "text/x-python",
   "name": "python",
   "nbconvert_exporter": "python",
   "pygments_lexer": "ipython3",
   "version": "3.8.8"
  }
 },
 "nbformat": 4,
 "nbformat_minor": 5
}
